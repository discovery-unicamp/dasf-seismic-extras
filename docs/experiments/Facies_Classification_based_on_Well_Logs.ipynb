{
  "nbformat": 4,
  "nbformat_minor": 0,
  "metadata": {
    "colab": {
      "name": "Facies Classification based on Well Logs.ipynb",
      "provenance": [],
      "authorship_tag": "ABX9TyNZ5L3i3nkI2ENETFKqpWc9"
    },
    "kernelspec": {
      "name": "python3",
      "display_name": "Python 3"
    },
    "language_info": {
      "name": "python"
    }
  },
  "cells": [
    {
      "cell_type": "markdown",
      "metadata": {
        "id": "1lR0224v3axR"
      },
      "source": [
        "# **Facies classification using Machine Learning**\n",
        "\n",
        "The dataset we will use comes from a class excercise from The University of Kansas on [Neural Networks and Fuzzy Systems](http://www.people.ku.edu/~gbohling/EECS833/). This exercise is based on a consortium project to use machine learning techniques to create a reservoir model of the largest gas fields in North America, the Hugoton and Panoma Fields. For more info on the origin of the data, see [Bohling and Dubois (2003)](http://www.kgs.ku.edu/PRS/publication/2003/ofr2003-50.pdf) and [Dubois et al. (2007)](http://dx.doi.org/10.1016/j.cageo.2006.08.011).\n",
        "\n",
        "First, let's install the required packages to train this model and download the dataset. We will present two versions using K-Means and Kohonen's self-organizing maps (aka SOM)."
      ]
    },
    {
      "cell_type": "code",
      "metadata": {
        "colab": {
          "base_uri": "https://localhost:8080/"
        },
        "id": "QgkAksDqkHoM",
        "outputId": "b7778021-ef53-4b2b-cc87-cf8aa11bdd3b"
      },
      "source": [
        "!pip install sklearn somoclu > /dev/null 2>&1\n",
        "!rm -rf data/\n",
        "!mkdir -p data/\n",
        "!wget https://raw.githubusercontent.com/jcfaracco/seismic_framework/main/data/facies_data.csv -O data/facies_data.csv\n",
        "!wget https://raw.githubusercontent.com/jcfaracco/seismic_framework/main/data/nofacies_data.csv -O data/nofacies_data.csv"
      ],
      "execution_count": 84,
      "outputs": [
        {
          "output_type": "stream",
          "text": [
            "--2021-05-10 03:52:26--  https://raw.githubusercontent.com/jcfaracco/seismic_framework/main/data/facies_data.csv\n",
            "Resolving raw.githubusercontent.com (raw.githubusercontent.com)... 185.199.108.133, 185.199.109.133, 185.199.110.133, ...\n",
            "Connecting to raw.githubusercontent.com (raw.githubusercontent.com)|185.199.108.133|:443... connected.\n",
            "HTTP request sent, awaiting response... 200 OK\n",
            "Length: 245903 (240K) [text/plain]\n",
            "Saving to: ‘data/facies_data.csv’\n",
            "\n",
            "data/facies_data.cs 100%[===================>] 240.14K  --.-KB/s    in 0.03s   \n",
            "\n",
            "2021-05-10 03:52:26 (8.53 MB/s) - ‘data/facies_data.csv’ saved [245903/245903]\n",
            "\n",
            "--2021-05-10 03:52:26--  https://raw.githubusercontent.com/jcfaracco/seismic_framework/main/data/nofacies_data.csv\n",
            "Resolving raw.githubusercontent.com (raw.githubusercontent.com)... 185.199.108.133, 185.199.109.133, 185.199.110.133, ...\n",
            "Connecting to raw.githubusercontent.com (raw.githubusercontent.com)|185.199.108.133|:443... connected.\n",
            "HTTP request sent, awaiting response... 200 OK\n",
            "Length: 46734 (46K) [text/plain]\n",
            "Saving to: ‘data/nofacies_data.csv’\n",
            "\n",
            "data/nofacies_data. 100%[===================>]  45.64K  --.-KB/s    in 0.01s   \n",
            "\n",
            "2021-05-10 03:52:26 (4.22 MB/s) - ‘data/nofacies_data.csv’ saved [46734/46734]\n",
            "\n"
          ],
          "name": "stdout"
        }
      ]
    },
    {
      "cell_type": "markdown",
      "metadata": {
        "id": "vsoEn2_3U0sQ"
      },
      "source": [
        "## **Exploring the dataset**\n",
        "\n",
        "First, we will examine the data set we will use to train the classifier. The training data is contained in the file `facies_data.csv`. The dataset consists of 5 wireline log measurements, two indicator variables and a facies label at half foot intervals. In machine learning terminology, each log measurement is a feature vector that maps a set of 'features' (the log measurements) to a class (the facies type). We will use the pandas library to load the data into a dataframe, which provides a convenient data structure to work with well log data.\n"
      ]
    },
    {
      "cell_type": "code",
      "metadata": {
        "colab": {
          "base_uri": "https://localhost:8080/",
          "height": 424
        },
        "id": "DXppscFQ5jxX",
        "outputId": "a6fee591-e785-49a4-894a-aa8779b4183d"
      },
      "source": [
        "import pandas as pd\n",
        "import numpy as np\n",
        "import matplotlib as mpl\n",
        "import matplotlib.pyplot as plt\n",
        "import matplotlib.colors as colors\n",
        "from mpl_toolkits.axes_grid1 import make_axes_locatable\n",
        "\n",
        "%matplotlib inline\n",
        "\n",
        "filename = 'data/facies_data.csv'\n",
        "training_data = pd.read_csv(filename)\n",
        "training_data"
      ],
      "execution_count": 85,
      "outputs": [
        {
          "output_type": "execute_result",
          "data": {
            "text/html": [
              "<div>\n",
              "<style scoped>\n",
              "    .dataframe tbody tr th:only-of-type {\n",
              "        vertical-align: middle;\n",
              "    }\n",
              "\n",
              "    .dataframe tbody tr th {\n",
              "        vertical-align: top;\n",
              "    }\n",
              "\n",
              "    .dataframe thead th {\n",
              "        text-align: right;\n",
              "    }\n",
              "</style>\n",
              "<table border=\"1\" class=\"dataframe\">\n",
              "  <thead>\n",
              "    <tr style=\"text-align: right;\">\n",
              "      <th></th>\n",
              "      <th>Facies</th>\n",
              "      <th>Formation</th>\n",
              "      <th>Well Name</th>\n",
              "      <th>Depth</th>\n",
              "      <th>GR</th>\n",
              "      <th>ILD_log10</th>\n",
              "      <th>DeltaPHI</th>\n",
              "      <th>PHIND</th>\n",
              "      <th>PE</th>\n",
              "      <th>NM_M</th>\n",
              "      <th>RELPOS</th>\n",
              "    </tr>\n",
              "  </thead>\n",
              "  <tbody>\n",
              "    <tr>\n",
              "      <th>0</th>\n",
              "      <td>3</td>\n",
              "      <td>A1 SH</td>\n",
              "      <td>SHRIMPLIN</td>\n",
              "      <td>2793.0</td>\n",
              "      <td>77.450</td>\n",
              "      <td>0.664</td>\n",
              "      <td>9.900</td>\n",
              "      <td>11.915</td>\n",
              "      <td>4.600</td>\n",
              "      <td>1</td>\n",
              "      <td>1.000</td>\n",
              "    </tr>\n",
              "    <tr>\n",
              "      <th>1</th>\n",
              "      <td>3</td>\n",
              "      <td>A1 SH</td>\n",
              "      <td>SHRIMPLIN</td>\n",
              "      <td>2793.5</td>\n",
              "      <td>78.260</td>\n",
              "      <td>0.661</td>\n",
              "      <td>14.200</td>\n",
              "      <td>12.565</td>\n",
              "      <td>4.100</td>\n",
              "      <td>1</td>\n",
              "      <td>0.979</td>\n",
              "    </tr>\n",
              "    <tr>\n",
              "      <th>2</th>\n",
              "      <td>3</td>\n",
              "      <td>A1 SH</td>\n",
              "      <td>SHRIMPLIN</td>\n",
              "      <td>2794.0</td>\n",
              "      <td>79.050</td>\n",
              "      <td>0.658</td>\n",
              "      <td>14.800</td>\n",
              "      <td>13.050</td>\n",
              "      <td>3.600</td>\n",
              "      <td>1</td>\n",
              "      <td>0.957</td>\n",
              "    </tr>\n",
              "    <tr>\n",
              "      <th>3</th>\n",
              "      <td>3</td>\n",
              "      <td>A1 SH</td>\n",
              "      <td>SHRIMPLIN</td>\n",
              "      <td>2794.5</td>\n",
              "      <td>86.100</td>\n",
              "      <td>0.655</td>\n",
              "      <td>13.900</td>\n",
              "      <td>13.115</td>\n",
              "      <td>3.500</td>\n",
              "      <td>1</td>\n",
              "      <td>0.936</td>\n",
              "    </tr>\n",
              "    <tr>\n",
              "      <th>4</th>\n",
              "      <td>3</td>\n",
              "      <td>A1 SH</td>\n",
              "      <td>SHRIMPLIN</td>\n",
              "      <td>2795.0</td>\n",
              "      <td>74.580</td>\n",
              "      <td>0.647</td>\n",
              "      <td>13.500</td>\n",
              "      <td>13.300</td>\n",
              "      <td>3.400</td>\n",
              "      <td>1</td>\n",
              "      <td>0.915</td>\n",
              "    </tr>\n",
              "    <tr>\n",
              "      <th>...</th>\n",
              "      <td>...</td>\n",
              "      <td>...</td>\n",
              "      <td>...</td>\n",
              "      <td>...</td>\n",
              "      <td>...</td>\n",
              "      <td>...</td>\n",
              "      <td>...</td>\n",
              "      <td>...</td>\n",
              "      <td>...</td>\n",
              "      <td>...</td>\n",
              "      <td>...</td>\n",
              "    </tr>\n",
              "    <tr>\n",
              "      <th>4144</th>\n",
              "      <td>5</td>\n",
              "      <td>C LM</td>\n",
              "      <td>CHURCHMAN BIBLE</td>\n",
              "      <td>3120.5</td>\n",
              "      <td>46.719</td>\n",
              "      <td>0.947</td>\n",
              "      <td>1.828</td>\n",
              "      <td>7.254</td>\n",
              "      <td>3.617</td>\n",
              "      <td>2</td>\n",
              "      <td>0.685</td>\n",
              "    </tr>\n",
              "    <tr>\n",
              "      <th>4145</th>\n",
              "      <td>5</td>\n",
              "      <td>C LM</td>\n",
              "      <td>CHURCHMAN BIBLE</td>\n",
              "      <td>3121.0</td>\n",
              "      <td>44.563</td>\n",
              "      <td>0.953</td>\n",
              "      <td>2.241</td>\n",
              "      <td>8.013</td>\n",
              "      <td>3.344</td>\n",
              "      <td>2</td>\n",
              "      <td>0.677</td>\n",
              "    </tr>\n",
              "    <tr>\n",
              "      <th>4146</th>\n",
              "      <td>5</td>\n",
              "      <td>C LM</td>\n",
              "      <td>CHURCHMAN BIBLE</td>\n",
              "      <td>3121.5</td>\n",
              "      <td>49.719</td>\n",
              "      <td>0.964</td>\n",
              "      <td>2.925</td>\n",
              "      <td>8.013</td>\n",
              "      <td>3.190</td>\n",
              "      <td>2</td>\n",
              "      <td>0.669</td>\n",
              "    </tr>\n",
              "    <tr>\n",
              "      <th>4147</th>\n",
              "      <td>5</td>\n",
              "      <td>C LM</td>\n",
              "      <td>CHURCHMAN BIBLE</td>\n",
              "      <td>3122.0</td>\n",
              "      <td>51.469</td>\n",
              "      <td>0.965</td>\n",
              "      <td>3.083</td>\n",
              "      <td>7.708</td>\n",
              "      <td>3.152</td>\n",
              "      <td>2</td>\n",
              "      <td>0.661</td>\n",
              "    </tr>\n",
              "    <tr>\n",
              "      <th>4148</th>\n",
              "      <td>5</td>\n",
              "      <td>C LM</td>\n",
              "      <td>CHURCHMAN BIBLE</td>\n",
              "      <td>3122.5</td>\n",
              "      <td>50.031</td>\n",
              "      <td>0.970</td>\n",
              "      <td>2.609</td>\n",
              "      <td>6.668</td>\n",
              "      <td>3.295</td>\n",
              "      <td>2</td>\n",
              "      <td>0.653</td>\n",
              "    </tr>\n",
              "  </tbody>\n",
              "</table>\n",
              "<p>4149 rows × 11 columns</p>\n",
              "</div>"
            ],
            "text/plain": [
              "      Facies Formation        Well Name   Depth  ...   PHIND     PE  NM_M  RELPOS\n",
              "0          3     A1 SH        SHRIMPLIN  2793.0  ...  11.915  4.600     1   1.000\n",
              "1          3     A1 SH        SHRIMPLIN  2793.5  ...  12.565  4.100     1   0.979\n",
              "2          3     A1 SH        SHRIMPLIN  2794.0  ...  13.050  3.600     1   0.957\n",
              "3          3     A1 SH        SHRIMPLIN  2794.5  ...  13.115  3.500     1   0.936\n",
              "4          3     A1 SH        SHRIMPLIN  2795.0  ...  13.300  3.400     1   0.915\n",
              "...      ...       ...              ...     ...  ...     ...    ...   ...     ...\n",
              "4144       5      C LM  CHURCHMAN BIBLE  3120.5  ...   7.254  3.617     2   0.685\n",
              "4145       5      C LM  CHURCHMAN BIBLE  3121.0  ...   8.013  3.344     2   0.677\n",
              "4146       5      C LM  CHURCHMAN BIBLE  3121.5  ...   8.013  3.190     2   0.669\n",
              "4147       5      C LM  CHURCHMAN BIBLE  3122.0  ...   7.708  3.152     2   0.661\n",
              "4148       5      C LM  CHURCHMAN BIBLE  3122.5  ...   6.668  3.295     2   0.653\n",
              "\n",
              "[4149 rows x 11 columns]"
            ]
          },
          "metadata": {
            "tags": []
          },
          "execution_count": 85
        }
      ]
    },
    {
      "cell_type": "markdown",
      "metadata": {
        "id": "xcCHbCWdVGZW"
      },
      "source": [
        "Remove a single well to use as a blind test later."
      ]
    },
    {
      "cell_type": "code",
      "metadata": {
        "id": "_YIxyLhg6A3G"
      },
      "source": [
        "blind = training_data[training_data['Well Name'] == 'SHANKLE']\n",
        "training_data = training_data[training_data['Well Name'] != 'SHANKLE']"
      ],
      "execution_count": 86,
      "outputs": []
    },
    {
      "cell_type": "markdown",
      "metadata": {
        "id": "Cr1_8Wy3VHjI"
      },
      "source": [
        "This data is from the Council Grove gas reservoir in Southwest Kansas. The Panoma Council Grove Field is predominantly a carbonate gas reservoir encompassing 2700 square miles in Southwestern Kansas. This dataset is from nine wells (with 4149 examples), consisting of a set of seven predictor variables and a rock facies (class) for each example vector and validation (test) data (830 examples from two wells) having the same seven predictor variables in the feature vector. Facies are based on examination of cores from nine wells taken vertically at half-foot intervals. Predictor variables include five from wireline log measurements and two geologic constraining variables that are derived from geologic knowledge. These are essentially continuous variables sampled at a half-foot sample rate.\n",
        "\n",
        "The seven predictor variables are:\n",
        "\n",
        "* Five wire line log curves include [gamma ray](http://petrowiki.org/Gamma_ray_logs) (GR), [resistivity logging](http://petrowiki.org/Resistivity_and_spontaneous_%28SP%29_logging) (ILD_log10), [photoelectric effect](http://www.glossary.oilfield.slb.com/en/Terms/p/photoelectric_effect.aspx) (PE), [neutron-density porosity](http://petrowiki.org/Neutron_porosity_logs) difference and average neutron-density porosity (DeltaPHI and PHIND). Note, some wells do not have PE.\n",
        "* Two geologic constraining variables: nonmarine-marine indicator (NM_M) and relative position (RELPOS)\n",
        "\n",
        "The nine discrete facies (classes of rocks) are:\n",
        "\n",
        "1. Nonmarine sandstone\n",
        "2. Nonmarine coarse siltstone\n",
        "3. Nonmarine fine siltstone\n",
        "4. Marine siltstone and shale\n",
        "5. Mudstone (limestone)\n",
        "6. Wackestone (limestone)\n",
        "7. Dolomite\n",
        "8. Packstone-grainstone (limestone)\n",
        "9. Phylloid-algal bafflestone (limestone)\n",
        "\n",
        "These facies aren't discrete, and gradually blend into one another. Some have neighboring facies that are rather close. Mislabeling within these neighboring facies can be expected to occur. The following table lists the facies, their abbreviated labels and their approximate neighbors.\n",
        "\n",
        "Facies | Label | Adjacent Facies\n",
        "-------|-------|----------------\n",
        "   1   |   SS  |               2\n",
        "   2   |  CSiS |             1,3\n",
        "   3   |  FSiS |               2\n",
        "   4   |  SiSh |               5\n",
        "   5   |   MS  |             4,6\n",
        "   6   |   WS  |             5,7\n",
        "   7   |   D   |             6,8\n",
        "   8   |   PS  |           6,7,9\n",
        "   9   |   BS  |             7,8\n",
        "\n",
        "Let's clean up this dataset. The 'Well Name' and 'Formation' columns can be turned into a categorical data type."
      ]
    },
    {
      "cell_type": "code",
      "metadata": {
        "colab": {
          "base_uri": "https://localhost:8080/"
        },
        "id": "NKpUo5fOXA1i",
        "outputId": "84139b3a-4f0b-4159-ff7f-05b6f6963d86"
      },
      "source": [
        "training_data['Well Name'] = training_data['Well Name'].astype('category')\n",
        "training_data['Formation'] = training_data['Formation'].astype('category')\n",
        "training_data['Well Name'].unique()"
      ],
      "execution_count": 87,
      "outputs": [
        {
          "output_type": "stream",
          "text": [
            "/usr/local/lib/python3.7/dist-packages/ipykernel_launcher.py:1: SettingWithCopyWarning: \n",
            "A value is trying to be set on a copy of a slice from a DataFrame.\n",
            "Try using .loc[row_indexer,col_indexer] = value instead\n",
            "\n",
            "See the caveats in the documentation: https://pandas.pydata.org/pandas-docs/stable/user_guide/indexing.html#returning-a-view-versus-a-copy\n",
            "  \"\"\"Entry point for launching an IPython kernel.\n",
            "/usr/local/lib/python3.7/dist-packages/ipykernel_launcher.py:2: SettingWithCopyWarning: \n",
            "A value is trying to be set on a copy of a slice from a DataFrame.\n",
            "Try using .loc[row_indexer,col_indexer] = value instead\n",
            "\n",
            "See the caveats in the documentation: https://pandas.pydata.org/pandas-docs/stable/user_guide/indexing.html#returning-a-view-versus-a-copy\n",
            "  \n"
          ],
          "name": "stderr"
        },
        {
          "output_type": "execute_result",
          "data": {
            "text/plain": [
              "['SHRIMPLIN', 'ALEXANDER D', 'LUKE G U', 'KIMZEY A', 'CROSS H CATTLE', 'NOLAN', 'Recruit F9', 'NEWBY', 'CHURCHMAN BIBLE']\n",
              "Categories (9, object): ['SHRIMPLIN', 'ALEXANDER D', 'LUKE G U', 'KIMZEY A', ..., 'NOLAN',\n",
              "                         'Recruit F9', 'NEWBY', 'CHURCHMAN BIBLE']"
            ]
          },
          "metadata": {
            "tags": []
          },
          "execution_count": 87
        }
      ]
    },
    {
      "cell_type": "markdown",
      "metadata": {
        "id": "EoAYXeBlXCok"
      },
      "source": [
        "These are the names of the 10 training wells in the Council Grove reservoir. Data has been recruited into pseudo-well 'Recruit F9' to better represent facies 9, the Phylloid-algal bafflestone.\n",
        "\n",
        "Before we plot the well data, let's define a color map so the facies are represented by consistent color in all the plots in this tutorial. We also create the abbreviated facies labels, and add those to the facies_vectors dataframe.\n"
      ]
    },
    {
      "cell_type": "code",
      "metadata": {
        "colab": {
          "base_uri": "https://localhost:8080/",
          "height": 509
        },
        "id": "DS_kmzic6dCq",
        "outputId": "b7d09708-f3f0-45b5-f73b-f55ab65f0468"
      },
      "source": [
        "# 1=sandstone\n",
        "# 2=c_siltstone\n",
        "# 3=f_siltstone \n",
        "# 4=marine_silt_shale\n",
        "# 5=mudstone\n",
        "# 6=wackestone\n",
        "# 7=dolomite\n",
        "# 8=packstone\n",
        "# 9=bafflestone\n",
        "facies_colors = ['#F4D03F', '#F5B041','#DC7633','#6E2C00',\n",
        "       '#1B4F72','#2E86C1', '#AED6F1', '#A569BD', '#196F3D']\n",
        "\n",
        "facies_labels = ['SS', 'CSiS', 'FSiS', 'SiSh', 'MS',\n",
        "                 'WS', 'D','PS', 'BS']\n",
        "#facies_color_map is a dictionary that maps facies labels\n",
        "#to their respective colors\n",
        "facies_color_map = {}\n",
        "for ind, label in enumerate(facies_labels):\n",
        "    facies_color_map[label] = facies_colors[ind]\n",
        "\n",
        "def label_facies(row, labels):\n",
        "    return labels[ row['Facies'] -1]\n",
        "    \n",
        "training_data.loc[:,'FaciesLabels'] = training_data.apply(lambda row: label_facies(row, facies_labels), axis=1)\n",
        "training_data.describe()"
      ],
      "execution_count": 88,
      "outputs": [
        {
          "output_type": "stream",
          "text": [
            "/usr/local/lib/python3.7/dist-packages/pandas/core/indexing.py:1596: SettingWithCopyWarning: \n",
            "A value is trying to be set on a copy of a slice from a DataFrame.\n",
            "Try using .loc[row_indexer,col_indexer] = value instead\n",
            "\n",
            "See the caveats in the documentation: https://pandas.pydata.org/pandas-docs/stable/user_guide/indexing.html#returning-a-view-versus-a-copy\n",
            "  self.obj[key] = _infer_fill_value(value)\n",
            "/usr/local/lib/python3.7/dist-packages/pandas/core/indexing.py:1743: SettingWithCopyWarning: \n",
            "A value is trying to be set on a copy of a slice from a DataFrame.\n",
            "Try using .loc[row_indexer,col_indexer] = value instead\n",
            "\n",
            "See the caveats in the documentation: https://pandas.pydata.org/pandas-docs/stable/user_guide/indexing.html#returning-a-view-versus-a-copy\n",
            "  isetter(ilocs[0], value)\n"
          ],
          "name": "stderr"
        },
        {
          "output_type": "execute_result",
          "data": {
            "text/html": [
              "<div>\n",
              "<style scoped>\n",
              "    .dataframe tbody tr th:only-of-type {\n",
              "        vertical-align: middle;\n",
              "    }\n",
              "\n",
              "    .dataframe tbody tr th {\n",
              "        vertical-align: top;\n",
              "    }\n",
              "\n",
              "    .dataframe thead th {\n",
              "        text-align: right;\n",
              "    }\n",
              "</style>\n",
              "<table border=\"1\" class=\"dataframe\">\n",
              "  <thead>\n",
              "    <tr style=\"text-align: right;\">\n",
              "      <th></th>\n",
              "      <th>Facies</th>\n",
              "      <th>Depth</th>\n",
              "      <th>GR</th>\n",
              "      <th>ILD_log10</th>\n",
              "      <th>DeltaPHI</th>\n",
              "      <th>PHIND</th>\n",
              "      <th>PE</th>\n",
              "      <th>NM_M</th>\n",
              "      <th>RELPOS</th>\n",
              "    </tr>\n",
              "  </thead>\n",
              "  <tbody>\n",
              "    <tr>\n",
              "      <th>count</th>\n",
              "      <td>3700.000000</td>\n",
              "      <td>3700.000000</td>\n",
              "      <td>3700.000000</td>\n",
              "      <td>3700.000000</td>\n",
              "      <td>3700.000000</td>\n",
              "      <td>3700.000000</td>\n",
              "      <td>2783.000000</td>\n",
              "      <td>3700.000000</td>\n",
              "      <td>3700.000000</td>\n",
              "    </tr>\n",
              "    <tr>\n",
              "      <th>mean</th>\n",
              "      <td>4.615676</td>\n",
              "      <td>2908.853378</td>\n",
              "      <td>64.873649</td>\n",
              "      <td>0.663053</td>\n",
              "      <td>4.651677</td>\n",
              "      <td>12.892826</td>\n",
              "      <td>3.805693</td>\n",
              "      <td>1.540000</td>\n",
              "      <td>0.524125</td>\n",
              "    </tr>\n",
              "    <tr>\n",
              "      <th>std</th>\n",
              "      <td>2.475808</td>\n",
              "      <td>139.010855</td>\n",
              "      <td>30.817166</td>\n",
              "      <td>0.253863</td>\n",
              "      <td>5.109006</td>\n",
              "      <td>6.796219</td>\n",
              "      <td>0.894118</td>\n",
              "      <td>0.498465</td>\n",
              "      <td>0.287147</td>\n",
              "    </tr>\n",
              "    <tr>\n",
              "      <th>min</th>\n",
              "      <td>1.000000</td>\n",
              "      <td>2573.500000</td>\n",
              "      <td>10.149000</td>\n",
              "      <td>-0.025949</td>\n",
              "      <td>-21.832000</td>\n",
              "      <td>0.550000</td>\n",
              "      <td>0.200000</td>\n",
              "      <td>1.000000</td>\n",
              "      <td>0.000000</td>\n",
              "    </tr>\n",
              "    <tr>\n",
              "      <th>25%</th>\n",
              "      <td>2.000000</td>\n",
              "      <td>2818.500000</td>\n",
              "      <td>43.778250</td>\n",
              "      <td>0.502000</td>\n",
              "      <td>1.800000</td>\n",
              "      <td>8.350000</td>\n",
              "      <td>3.200000</td>\n",
              "      <td>1.000000</td>\n",
              "      <td>0.278000</td>\n",
              "    </tr>\n",
              "    <tr>\n",
              "      <th>50%</th>\n",
              "      <td>4.000000</td>\n",
              "      <td>2939.000000</td>\n",
              "      <td>64.817000</td>\n",
              "      <td>0.645613</td>\n",
              "      <td>4.400000</td>\n",
              "      <td>11.857500</td>\n",
              "      <td>3.600000</td>\n",
              "      <td>2.000000</td>\n",
              "      <td>0.531000</td>\n",
              "    </tr>\n",
              "    <tr>\n",
              "      <th>75%</th>\n",
              "      <td>7.000000</td>\n",
              "      <td>3015.125000</td>\n",
              "      <td>80.322500</td>\n",
              "      <td>0.823000</td>\n",
              "      <td>7.600000</td>\n",
              "      <td>15.750000</td>\n",
              "      <td>4.400000</td>\n",
              "      <td>2.000000</td>\n",
              "      <td>0.772000</td>\n",
              "    </tr>\n",
              "    <tr>\n",
              "      <th>max</th>\n",
              "      <td>9.000000</td>\n",
              "      <td>3138.000000</td>\n",
              "      <td>361.150000</td>\n",
              "      <td>1.800000</td>\n",
              "      <td>19.312000</td>\n",
              "      <td>84.400000</td>\n",
              "      <td>8.094000</td>\n",
              "      <td>2.000000</td>\n",
              "      <td>1.000000</td>\n",
              "    </tr>\n",
              "  </tbody>\n",
              "</table>\n",
              "</div>"
            ],
            "text/plain": [
              "            Facies        Depth  ...         NM_M       RELPOS\n",
              "count  3700.000000  3700.000000  ...  3700.000000  3700.000000\n",
              "mean      4.615676  2908.853378  ...     1.540000     0.524125\n",
              "std       2.475808   139.010855  ...     0.498465     0.287147\n",
              "min       1.000000  2573.500000  ...     1.000000     0.000000\n",
              "25%       2.000000  2818.500000  ...     1.000000     0.278000\n",
              "50%       4.000000  2939.000000  ...     2.000000     0.531000\n",
              "75%       7.000000  3015.125000  ...     2.000000     0.772000\n",
              "max       9.000000  3138.000000  ...     2.000000     1.000000\n",
              "\n",
              "[8 rows x 9 columns]"
            ]
          },
          "metadata": {
            "tags": []
          },
          "execution_count": 88
        }
      ]
    },
    {
      "cell_type": "markdown",
      "metadata": {
        "id": "w9T2dBlDXTPY"
      },
      "source": [
        "Let's take a look at the data from individual wells in a more familiar log plot form. We will create plots for the five well log variables, as well as a log for facies labels."
      ]
    },
    {
      "cell_type": "code",
      "metadata": {
        "id": "xRheTaok6N6U"
      },
      "source": [
        "def make_facies_log_plot(logs, facies_colors):\n",
        "    #make sure logs are sorted by depth\n",
        "    logs = logs.sort_values(by='Depth')\n",
        "    cmap_facies = colors.ListedColormap(\n",
        "            facies_colors[0:len(facies_colors)], 'indexed')\n",
        "    \n",
        "    ztop=logs.Depth.min(); zbot=logs.Depth.max()\n",
        "    \n",
        "    cluster=np.repeat(np.expand_dims(logs['Facies'].values,1), 100, 1)\n",
        "    \n",
        "    f, ax = plt.subplots(nrows=1, ncols=6, figsize=(8, 12))\n",
        "    ax[0].plot(logs.GR, logs.Depth, '-g')\n",
        "    ax[1].plot(logs.ILD_log10, logs.Depth, '-')\n",
        "    ax[2].plot(logs.DeltaPHI, logs.Depth, '-', color='0.5')\n",
        "    ax[3].plot(logs.PHIND, logs.Depth, '-', color='r')\n",
        "    ax[4].plot(logs.PE, logs.Depth, '-', color='black')\n",
        "    im=ax[5].imshow(cluster, interpolation='none', aspect='auto',\n",
        "                    cmap=cmap_facies,vmin=1,vmax=9)\n",
        "    \n",
        "    divider = make_axes_locatable(ax[5])\n",
        "    cax = divider.append_axes(\"right\", size=\"20%\", pad=0.05)\n",
        "    cbar=plt.colorbar(im, cax=cax)\n",
        "    cbar.set_label((17*' ').join([' SS ', 'CSiS', 'FSiS', \n",
        "                                'SiSh', ' MS ', ' WS ', ' D  ', \n",
        "                                ' PS ', ' BS ']))\n",
        "    cbar.set_ticks(range(0,1)); cbar.set_ticklabels('')\n",
        "    \n",
        "    for i in range(len(ax)-1):\n",
        "        ax[i].set_ylim(ztop,zbot)\n",
        "        ax[i].invert_yaxis()\n",
        "        ax[i].grid()\n",
        "        ax[i].locator_params(axis='x', nbins=3)\n",
        "    \n",
        "    ax[0].set_xlabel(\"GR\")\n",
        "    ax[0].set_xlim(logs.GR.min(),logs.GR.max())\n",
        "    ax[1].set_xlabel(\"ILD_log10\")\n",
        "    ax[1].set_xlim(logs.ILD_log10.min(),logs.ILD_log10.max())\n",
        "    ax[2].set_xlabel(\"DeltaPHI\")\n",
        "    ax[2].set_xlim(logs.DeltaPHI.min(),logs.DeltaPHI.max())\n",
        "    ax[3].set_xlabel(\"PHIND\")\n",
        "    ax[3].set_xlim(logs.PHIND.min(),logs.PHIND.max())\n",
        "    ax[4].set_xlabel(\"PE\")\n",
        "    ax[4].set_xlim(logs.PE.min(),logs.PE.max())\n",
        "    ax[5].set_xlabel('Facies')\n",
        "    \n",
        "    ax[1].set_yticklabels([]); ax[2].set_yticklabels([]); ax[3].set_yticklabels([])\n",
        "    ax[4].set_yticklabels([]); ax[5].set_yticklabels([])\n",
        "    ax[5].set_xticklabels([])\n",
        "    f.suptitle('Well: %s'%logs.iloc[0]['Well Name'], fontsize=14,y=0.94)"
      ],
      "execution_count": 89,
      "outputs": []
    },
    {
      "cell_type": "markdown",
      "metadata": {
        "id": "O8SR1iuuXYLr"
      },
      "source": [
        "Placing the log plotting code in a function will make it easy to plot the logs from multiples wells, and can be reused later to view the results when we apply the facies classification model to other wells. The function was written to take a list of colors and facies labels as parameters.\n",
        "\n",
        "We then show log plots for wells `SHRIMPLIN`."
      ]
    },
    {
      "cell_type": "code",
      "metadata": {
        "colab": {
          "base_uri": "https://localhost:8080/",
          "height": 767
        },
        "id": "uHvcubP46Pfb",
        "outputId": "568bc001-3177-4efe-cfd7-36f3ff62b5e5"
      },
      "source": [
        "make_facies_log_plot(\n",
        "    training_data[training_data['Well Name'] == 'SHRIMPLIN'],\n",
        "    facies_colors)"
      ],
      "execution_count": 90,
      "outputs": [
        {
          "output_type": "display_data",
          "data": {
            "image/png": "[encoded data removed]",
            "text/plain": [
              "<Figure size 576x864 with 7 Axes>"
            ]
          },
          "metadata": {
            "tags": [],
            "needs_background": "light"
          }
        }
      ]
    },
    {
      "cell_type": "markdown",
      "metadata": {
        "id": "EEJLBfBpXe08"
      },
      "source": [
        "In addition to individual wells, we can look at how the various facies are represented by the entire training set. Let's plot a histgram of the number of training examples for each facies class."
      ]
    },
    {
      "cell_type": "code",
      "metadata": {
        "colab": {
          "base_uri": "https://localhost:8080/",
          "height": 468
        },
        "id": "r2UaY9NV6vtQ",
        "outputId": "224e3fd7-70b8-41b4-c2e3-e5dd30c32a0e"
      },
      "source": [
        "#count the number of unique entries for each facies, sort them by\n",
        "#facies number (instead of by number of entries)\n",
        "facies_counts = training_data['Facies'].value_counts().sort_index()\n",
        "#use facies labels to index each count\n",
        "facies_counts.index = facies_labels\n",
        "\n",
        "facies_counts.plot(kind='bar',color=facies_colors, \n",
        "                   title='Distribution of Training Data by Facies')\n",
        "facies_counts"
      ],
      "execution_count": 91,
      "outputs": [
        {
          "output_type": "execute_result",
          "data": {
            "text/plain": [
              "SS      179\n",
              "CSiS    851\n",
              "FSiS    663\n",
              "SiSh    264\n",
              "MS      277\n",
              "WS      511\n",
              "D       124\n",
              "PS      646\n",
              "BS      185\n",
              "Name: Facies, dtype: int64"
            ]
          },
          "metadata": {
            "tags": []
          },
          "execution_count": 91
        },
        {
          "output_type": "display_data",
          "data": {
            "image/png": "[encoded data removed]",
            "text/plain": [
              "<Figure size 432x288 with 1 Axes>"
            ]
          },
          "metadata": {
            "tags": [],
            "needs_background": "light"
          }
        }
      ]
    },
    {
      "cell_type": "markdown",
      "metadata": {
        "id": "_pxn8tjpXkrc"
      },
      "source": [
        "## **Conditioning the data set**\n",
        "\n",
        "Now we extract just the feature variables we need to perform the classification. The predictor variables are the five wireline values and two geologic constraining variables. We also get a vector of the facies labels that correspond to each feature vector."
      ]
    },
    {
      "cell_type": "code",
      "metadata": {
        "colab": {
          "base_uri": "https://localhost:8080/",
          "height": 300
        },
        "id": "f9vvV1pU67sa",
        "outputId": "41ea212e-563d-4934-f421-77b18ed583af"
      },
      "source": [
        "correct_facies_labels = training_data['Facies'].values\n",
        "\n",
        "feature_vectors = training_data.drop(['Formation', 'Well Name', 'Depth','Facies','FaciesLabels'], axis=1)\n",
        "feature_vectors.describe()"
      ],
      "execution_count": 92,
      "outputs": [
        {
          "output_type": "execute_result",
          "data": {
            "text/html": [
              "<div>\n",
              "<style scoped>\n",
              "    .dataframe tbody tr th:only-of-type {\n",
              "        vertical-align: middle;\n",
              "    }\n",
              "\n",
              "    .dataframe tbody tr th {\n",
              "        vertical-align: top;\n",
              "    }\n",
              "\n",
              "    .dataframe thead th {\n",
              "        text-align: right;\n",
              "    }\n",
              "</style>\n",
              "<table border=\"1\" class=\"dataframe\">\n",
              "  <thead>\n",
              "    <tr style=\"text-align: right;\">\n",
              "      <th></th>\n",
              "      <th>GR</th>\n",
              "      <th>ILD_log10</th>\n",
              "      <th>DeltaPHI</th>\n",
              "      <th>PHIND</th>\n",
              "      <th>PE</th>\n",
              "      <th>NM_M</th>\n",
              "      <th>RELPOS</th>\n",
              "    </tr>\n",
              "  </thead>\n",
              "  <tbody>\n",
              "    <tr>\n",
              "      <th>count</th>\n",
              "      <td>3700.000000</td>\n",
              "      <td>3700.000000</td>\n",
              "      <td>3700.000000</td>\n",
              "      <td>3700.000000</td>\n",
              "      <td>2783.000000</td>\n",
              "      <td>3700.000000</td>\n",
              "      <td>3700.000000</td>\n",
              "    </tr>\n",
              "    <tr>\n",
              "      <th>mean</th>\n",
              "      <td>64.873649</td>\n",
              "      <td>0.663053</td>\n",
              "      <td>4.651677</td>\n",
              "      <td>12.892826</td>\n",
              "      <td>3.805693</td>\n",
              "      <td>1.540000</td>\n",
              "      <td>0.524125</td>\n",
              "    </tr>\n",
              "    <tr>\n",
              "      <th>std</th>\n",
              "      <td>30.817166</td>\n",
              "      <td>0.253863</td>\n",
              "      <td>5.109006</td>\n",
              "      <td>6.796219</td>\n",
              "      <td>0.894118</td>\n",
              "      <td>0.498465</td>\n",
              "      <td>0.287147</td>\n",
              "    </tr>\n",
              "    <tr>\n",
              "      <th>min</th>\n",
              "      <td>10.149000</td>\n",
              "      <td>-0.025949</td>\n",
              "      <td>-21.832000</td>\n",
              "      <td>0.550000</td>\n",
              "      <td>0.200000</td>\n",
              "      <td>1.000000</td>\n",
              "      <td>0.000000</td>\n",
              "    </tr>\n",
              "    <tr>\n",
              "      <th>25%</th>\n",
              "      <td>43.778250</td>\n",
              "      <td>0.502000</td>\n",
              "      <td>1.800000</td>\n",
              "      <td>8.350000</td>\n",
              "      <td>3.200000</td>\n",
              "      <td>1.000000</td>\n",
              "      <td>0.278000</td>\n",
              "    </tr>\n",
              "    <tr>\n",
              "      <th>50%</th>\n",
              "      <td>64.817000</td>\n",
              "      <td>0.645613</td>\n",
              "      <td>4.400000</td>\n",
              "      <td>11.857500</td>\n",
              "      <td>3.600000</td>\n",
              "      <td>2.000000</td>\n",
              "      <td>0.531000</td>\n",
              "    </tr>\n",
              "    <tr>\n",
              "      <th>75%</th>\n",
              "      <td>80.322500</td>\n",
              "      <td>0.823000</td>\n",
              "      <td>7.600000</td>\n",
              "      <td>15.750000</td>\n",
              "      <td>4.400000</td>\n",
              "      <td>2.000000</td>\n",
              "      <td>0.772000</td>\n",
              "    </tr>\n",
              "    <tr>\n",
              "      <th>max</th>\n",
              "      <td>361.150000</td>\n",
              "      <td>1.800000</td>\n",
              "      <td>19.312000</td>\n",
              "      <td>84.400000</td>\n",
              "      <td>8.094000</td>\n",
              "      <td>2.000000</td>\n",
              "      <td>1.000000</td>\n",
              "    </tr>\n",
              "  </tbody>\n",
              "</table>\n",
              "</div>"
            ],
            "text/plain": [
              "                GR    ILD_log10  ...         NM_M       RELPOS\n",
              "count  3700.000000  3700.000000  ...  3700.000000  3700.000000\n",
              "mean     64.873649     0.663053  ...     1.540000     0.524125\n",
              "std      30.817166     0.253863  ...     0.498465     0.287147\n",
              "min      10.149000    -0.025949  ...     1.000000     0.000000\n",
              "25%      43.778250     0.502000  ...     1.000000     0.278000\n",
              "50%      64.817000     0.645613  ...     2.000000     0.531000\n",
              "75%      80.322500     0.823000  ...     2.000000     0.772000\n",
              "max     361.150000     1.800000  ...     2.000000     1.000000\n",
              "\n",
              "[8 rows x 7 columns]"
            ]
          },
          "metadata": {
            "tags": []
          },
          "execution_count": 92
        }
      ]
    },
    {
      "cell_type": "markdown",
      "metadata": {
        "id": "9591Z_sNXv5w"
      },
      "source": [
        "Scikit includes a [preprocessing](http://scikit-learn.org/stable/modules/preprocessing.html) module that can 'standardize' the data (giving each variable zero mean and unit variance, also called whitening). Many machine learning algorithms assume features will be standard normally distributed data (ie: Gaussian with zero mean and unit variance). The factors used to standardize the training set must be applied to any subsequent feature set that will be input to the classifier. The StandardScalar class can be fit to the training set, and later used to standardize any training data.\n"
      ]
    },
    {
      "cell_type": "code",
      "metadata": {
        "colab": {
          "base_uri": "https://localhost:8080/",
          "height": 424
        },
        "id": "5Fbx3gPi7uFR",
        "outputId": "dca3f92b-af43-459f-d4af-b37657d864ce"
      },
      "source": [
        "from sklearn import preprocessing\n",
        "\n",
        "scaler = preprocessing.StandardScaler().fit(feature_vectors)\n",
        "scaled_features = scaler.transform(feature_vectors)\n",
        "\n",
        "feature_vectors"
      ],
      "execution_count": 93,
      "outputs": [
        {
          "output_type": "execute_result",
          "data": {
            "text/html": [
              "<div>\n",
              "<style scoped>\n",
              "    .dataframe tbody tr th:only-of-type {\n",
              "        vertical-align: middle;\n",
              "    }\n",
              "\n",
              "    .dataframe tbody tr th {\n",
              "        vertical-align: top;\n",
              "    }\n",
              "\n",
              "    .dataframe thead th {\n",
              "        text-align: right;\n",
              "    }\n",
              "</style>\n",
              "<table border=\"1\" class=\"dataframe\">\n",
              "  <thead>\n",
              "    <tr style=\"text-align: right;\">\n",
              "      <th></th>\n",
              "      <th>GR</th>\n",
              "      <th>ILD_log10</th>\n",
              "      <th>DeltaPHI</th>\n",
              "      <th>PHIND</th>\n",
              "      <th>PE</th>\n",
              "      <th>NM_M</th>\n",
              "      <th>RELPOS</th>\n",
              "    </tr>\n",
              "  </thead>\n",
              "  <tbody>\n",
              "    <tr>\n",
              "      <th>0</th>\n",
              "      <td>77.450</td>\n",
              "      <td>0.664</td>\n",
              "      <td>9.900</td>\n",
              "      <td>11.915</td>\n",
              "      <td>4.600</td>\n",
              "      <td>1</td>\n",
              "      <td>1.000</td>\n",
              "    </tr>\n",
              "    <tr>\n",
              "      <th>1</th>\n",
              "      <td>78.260</td>\n",
              "      <td>0.661</td>\n",
              "      <td>14.200</td>\n",
              "      <td>12.565</td>\n",
              "      <td>4.100</td>\n",
              "      <td>1</td>\n",
              "      <td>0.979</td>\n",
              "    </tr>\n",
              "    <tr>\n",
              "      <th>2</th>\n",
              "      <td>79.050</td>\n",
              "      <td>0.658</td>\n",
              "      <td>14.800</td>\n",
              "      <td>13.050</td>\n",
              "      <td>3.600</td>\n",
              "      <td>1</td>\n",
              "      <td>0.957</td>\n",
              "    </tr>\n",
              "    <tr>\n",
              "      <th>3</th>\n",
              "      <td>86.100</td>\n",
              "      <td>0.655</td>\n",
              "      <td>13.900</td>\n",
              "      <td>13.115</td>\n",
              "      <td>3.500</td>\n",
              "      <td>1</td>\n",
              "      <td>0.936</td>\n",
              "    </tr>\n",
              "    <tr>\n",
              "      <th>4</th>\n",
              "      <td>74.580</td>\n",
              "      <td>0.647</td>\n",
              "      <td>13.500</td>\n",
              "      <td>13.300</td>\n",
              "      <td>3.400</td>\n",
              "      <td>1</td>\n",
              "      <td>0.915</td>\n",
              "    </tr>\n",
              "    <tr>\n",
              "      <th>...</th>\n",
              "      <td>...</td>\n",
              "      <td>...</td>\n",
              "      <td>...</td>\n",
              "      <td>...</td>\n",
              "      <td>...</td>\n",
              "      <td>...</td>\n",
              "      <td>...</td>\n",
              "    </tr>\n",
              "    <tr>\n",
              "      <th>4144</th>\n",
              "      <td>46.719</td>\n",
              "      <td>0.947</td>\n",
              "      <td>1.828</td>\n",
              "      <td>7.254</td>\n",
              "      <td>3.617</td>\n",
              "      <td>2</td>\n",
              "      <td>0.685</td>\n",
              "    </tr>\n",
              "    <tr>\n",
              "      <th>4145</th>\n",
              "      <td>44.563</td>\n",
              "      <td>0.953</td>\n",
              "      <td>2.241</td>\n",
              "      <td>8.013</td>\n",
              "      <td>3.344</td>\n",
              "      <td>2</td>\n",
              "      <td>0.677</td>\n",
              "    </tr>\n",
              "    <tr>\n",
              "      <th>4146</th>\n",
              "      <td>49.719</td>\n",
              "      <td>0.964</td>\n",
              "      <td>2.925</td>\n",
              "      <td>8.013</td>\n",
              "      <td>3.190</td>\n",
              "      <td>2</td>\n",
              "      <td>0.669</td>\n",
              "    </tr>\n",
              "    <tr>\n",
              "      <th>4147</th>\n",
              "      <td>51.469</td>\n",
              "      <td>0.965</td>\n",
              "      <td>3.083</td>\n",
              "      <td>7.708</td>\n",
              "      <td>3.152</td>\n",
              "      <td>2</td>\n",
              "      <td>0.661</td>\n",
              "    </tr>\n",
              "    <tr>\n",
              "      <th>4148</th>\n",
              "      <td>50.031</td>\n",
              "      <td>0.970</td>\n",
              "      <td>2.609</td>\n",
              "      <td>6.668</td>\n",
              "      <td>3.295</td>\n",
              "      <td>2</td>\n",
              "      <td>0.653</td>\n",
              "    </tr>\n",
              "  </tbody>\n",
              "</table>\n",
              "<p>3700 rows × 7 columns</p>\n",
              "</div>"
            ],
            "text/plain": [
              "          GR  ILD_log10  DeltaPHI   PHIND     PE  NM_M  RELPOS\n",
              "0     77.450      0.664     9.900  11.915  4.600     1   1.000\n",
              "1     78.260      0.661    14.200  12.565  4.100     1   0.979\n",
              "2     79.050      0.658    14.800  13.050  3.600     1   0.957\n",
              "3     86.100      0.655    13.900  13.115  3.500     1   0.936\n",
              "4     74.580      0.647    13.500  13.300  3.400     1   0.915\n",
              "...      ...        ...       ...     ...    ...   ...     ...\n",
              "4144  46.719      0.947     1.828   7.254  3.617     2   0.685\n",
              "4145  44.563      0.953     2.241   8.013  3.344     2   0.677\n",
              "4146  49.719      0.964     2.925   8.013  3.190     2   0.669\n",
              "4147  51.469      0.965     3.083   7.708  3.152     2   0.661\n",
              "4148  50.031      0.970     2.609   6.668  3.295     2   0.653\n",
              "\n",
              "[3700 rows x 7 columns]"
            ]
          },
          "metadata": {
            "tags": []
          },
          "execution_count": 93
        }
      ]
    },
    {
      "cell_type": "markdown",
      "metadata": {
        "id": "4CAJvsJ5X512"
      },
      "source": [
        "## **Applying the classification models to the blind data**\n",
        "\n",
        "We held a well back from the training, and stored it in a dataframe called blind:\n"
      ]
    },
    {
      "cell_type": "code",
      "metadata": {
        "colab": {
          "base_uri": "https://localhost:8080/",
          "height": 424
        },
        "id": "QJxzaVaL-CwH",
        "outputId": "8ed0ae6a-d6f6-435f-b929-7cc37cc1e70f"
      },
      "source": [
        "blind"
      ],
      "execution_count": 94,
      "outputs": [
        {
          "output_type": "execute_result",
          "data": {
            "text/html": [
              "<div>\n",
              "<style scoped>\n",
              "    .dataframe tbody tr th:only-of-type {\n",
              "        vertical-align: middle;\n",
              "    }\n",
              "\n",
              "    .dataframe tbody tr th {\n",
              "        vertical-align: top;\n",
              "    }\n",
              "\n",
              "    .dataframe thead th {\n",
              "        text-align: right;\n",
              "    }\n",
              "</style>\n",
              "<table border=\"1\" class=\"dataframe\">\n",
              "  <thead>\n",
              "    <tr style=\"text-align: right;\">\n",
              "      <th></th>\n",
              "      <th>Facies</th>\n",
              "      <th>Formation</th>\n",
              "      <th>Well Name</th>\n",
              "      <th>Depth</th>\n",
              "      <th>GR</th>\n",
              "      <th>ILD_log10</th>\n",
              "      <th>DeltaPHI</th>\n",
              "      <th>PHIND</th>\n",
              "      <th>PE</th>\n",
              "      <th>NM_M</th>\n",
              "      <th>RELPOS</th>\n",
              "    </tr>\n",
              "  </thead>\n",
              "  <tbody>\n",
              "    <tr>\n",
              "      <th>937</th>\n",
              "      <td>2</td>\n",
              "      <td>A1 SH</td>\n",
              "      <td>SHANKLE</td>\n",
              "      <td>2774.5</td>\n",
              "      <td>98.36</td>\n",
              "      <td>0.642</td>\n",
              "      <td>-0.1</td>\n",
              "      <td>18.685</td>\n",
              "      <td>2.9</td>\n",
              "      <td>1</td>\n",
              "      <td>1.000</td>\n",
              "    </tr>\n",
              "    <tr>\n",
              "      <th>938</th>\n",
              "      <td>2</td>\n",
              "      <td>A1 SH</td>\n",
              "      <td>SHANKLE</td>\n",
              "      <td>2775.0</td>\n",
              "      <td>97.57</td>\n",
              "      <td>0.631</td>\n",
              "      <td>7.9</td>\n",
              "      <td>16.745</td>\n",
              "      <td>3.2</td>\n",
              "      <td>1</td>\n",
              "      <td>0.984</td>\n",
              "    </tr>\n",
              "    <tr>\n",
              "      <th>939</th>\n",
              "      <td>2</td>\n",
              "      <td>A1 SH</td>\n",
              "      <td>SHANKLE</td>\n",
              "      <td>2775.5</td>\n",
              "      <td>98.41</td>\n",
              "      <td>0.615</td>\n",
              "      <td>12.8</td>\n",
              "      <td>14.105</td>\n",
              "      <td>3.2</td>\n",
              "      <td>1</td>\n",
              "      <td>0.968</td>\n",
              "    </tr>\n",
              "    <tr>\n",
              "      <th>940</th>\n",
              "      <td>2</td>\n",
              "      <td>A1 SH</td>\n",
              "      <td>SHANKLE</td>\n",
              "      <td>2776.0</td>\n",
              "      <td>85.92</td>\n",
              "      <td>0.597</td>\n",
              "      <td>13.0</td>\n",
              "      <td>13.385</td>\n",
              "      <td>3.4</td>\n",
              "      <td>1</td>\n",
              "      <td>0.952</td>\n",
              "    </tr>\n",
              "    <tr>\n",
              "      <th>941</th>\n",
              "      <td>2</td>\n",
              "      <td>A1 SH</td>\n",
              "      <td>SHANKLE</td>\n",
              "      <td>2776.5</td>\n",
              "      <td>83.16</td>\n",
              "      <td>0.592</td>\n",
              "      <td>12.3</td>\n",
              "      <td>13.345</td>\n",
              "      <td>3.4</td>\n",
              "      <td>1</td>\n",
              "      <td>0.935</td>\n",
              "    </tr>\n",
              "    <tr>\n",
              "      <th>...</th>\n",
              "      <td>...</td>\n",
              "      <td>...</td>\n",
              "      <td>...</td>\n",
              "      <td>...</td>\n",
              "      <td>...</td>\n",
              "      <td>...</td>\n",
              "      <td>...</td>\n",
              "      <td>...</td>\n",
              "      <td>...</td>\n",
              "      <td>...</td>\n",
              "      <td>...</td>\n",
              "    </tr>\n",
              "    <tr>\n",
              "      <th>1381</th>\n",
              "      <td>8</td>\n",
              "      <td>C LM</td>\n",
              "      <td>SHANKLE</td>\n",
              "      <td>3006.0</td>\n",
              "      <td>32.84</td>\n",
              "      <td>1.120</td>\n",
              "      <td>-2.2</td>\n",
              "      <td>3.455</td>\n",
              "      <td>5.1</td>\n",
              "      <td>2</td>\n",
              "      <td>0.060</td>\n",
              "    </tr>\n",
              "    <tr>\n",
              "      <th>1382</th>\n",
              "      <td>8</td>\n",
              "      <td>C LM</td>\n",
              "      <td>SHANKLE</td>\n",
              "      <td>3006.5</td>\n",
              "      <td>25.16</td>\n",
              "      <td>1.112</td>\n",
              "      <td>-1.6</td>\n",
              "      <td>2.890</td>\n",
              "      <td>4.8</td>\n",
              "      <td>2</td>\n",
              "      <td>0.045</td>\n",
              "    </tr>\n",
              "    <tr>\n",
              "      <th>1383</th>\n",
              "      <td>8</td>\n",
              "      <td>C LM</td>\n",
              "      <td>SHANKLE</td>\n",
              "      <td>3007.0</td>\n",
              "      <td>25.16</td>\n",
              "      <td>1.112</td>\n",
              "      <td>-1.6</td>\n",
              "      <td>2.890</td>\n",
              "      <td>4.8</td>\n",
              "      <td>2</td>\n",
              "      <td>0.030</td>\n",
              "    </tr>\n",
              "    <tr>\n",
              "      <th>1384</th>\n",
              "      <td>4</td>\n",
              "      <td>C LM</td>\n",
              "      <td>SHANKLE</td>\n",
              "      <td>3007.5</td>\n",
              "      <td>26.22</td>\n",
              "      <td>1.092</td>\n",
              "      <td>-0.4</td>\n",
              "      <td>3.400</td>\n",
              "      <td>4.5</td>\n",
              "      <td>2</td>\n",
              "      <td>0.030</td>\n",
              "    </tr>\n",
              "    <tr>\n",
              "      <th>1385</th>\n",
              "      <td>4</td>\n",
              "      <td>C LM</td>\n",
              "      <td>SHANKLE</td>\n",
              "      <td>3008.0</td>\n",
              "      <td>65.36</td>\n",
              "      <td>1.026</td>\n",
              "      <td>1.6</td>\n",
              "      <td>4.715</td>\n",
              "      <td>4.5</td>\n",
              "      <td>2</td>\n",
              "      <td>0.015</td>\n",
              "    </tr>\n",
              "  </tbody>\n",
              "</table>\n",
              "<p>449 rows × 11 columns</p>\n",
              "</div>"
            ],
            "text/plain": [
              "      Facies Formation Well Name   Depth  ...   PHIND   PE  NM_M  RELPOS\n",
              "937        2     A1 SH   SHANKLE  2774.5  ...  18.685  2.9     1   1.000\n",
              "938        2     A1 SH   SHANKLE  2775.0  ...  16.745  3.2     1   0.984\n",
              "939        2     A1 SH   SHANKLE  2775.5  ...  14.105  3.2     1   0.968\n",
              "940        2     A1 SH   SHANKLE  2776.0  ...  13.385  3.4     1   0.952\n",
              "941        2     A1 SH   SHANKLE  2776.5  ...  13.345  3.4     1   0.935\n",
              "...      ...       ...       ...     ...  ...     ...  ...   ...     ...\n",
              "1381       8      C LM   SHANKLE  3006.0  ...   3.455  5.1     2   0.060\n",
              "1382       8      C LM   SHANKLE  3006.5  ...   2.890  4.8     2   0.045\n",
              "1383       8      C LM   SHANKLE  3007.0  ...   2.890  4.8     2   0.030\n",
              "1384       4      C LM   SHANKLE  3007.5  ...   3.400  4.5     2   0.030\n",
              "1385       4      C LM   SHANKLE  3008.0  ...   4.715  4.5     2   0.015\n",
              "\n",
              "[449 rows x 11 columns]"
            ]
          },
          "metadata": {
            "tags": []
          },
          "execution_count": 94
        }
      ]
    },
    {
      "cell_type": "markdown",
      "metadata": {
        "id": "i7FTc4iGX85d"
      },
      "source": [
        "Now, the first machine learn algorithm tested is [K-Means](https://scikit-learn.org/stable/modules/generated/sklearn.cluster.KMeans.html) from scikit. This code splits the test case but as K-Means uses only the train dataset, the other ones can be discarded. For this specific method, only `X_train` is used to train and `X_blind` to predict the assumptions of the well logs."
      ]
    },
    {
      "cell_type": "code",
      "metadata": {
        "id": "v_R-krOy72NC"
      },
      "source": [
        "from sklearn.cluster import KMeans\n",
        "from sklearn.model_selection import train_test_split\n",
        "\n",
        "X_train, X_test, y_train, y_test = train_test_split(\n",
        "        scaled_features, correct_facies_labels, test_size=0.2, random_state=42)\n",
        "\n",
        "n_clusters = len(facies_labels)\n",
        "\n",
        "kmeans = KMeans(n_clusters)\n",
        "\n",
        "kmeans = kmeans.fit(np.nan_to_num(X_train))\n",
        "\n",
        "y_blind = blind['Facies'].values\n",
        "well_features = blind.drop(['Facies', 'Formation', 'Well Name', 'Depth'], axis=1)\n",
        "X_blind = scaler.transform(well_features)\n",
        "\n",
        "y_pred_kmeans = kmeans.predict(X_blind)"
      ],
      "execution_count": 95,
      "outputs": []
    },
    {
      "cell_type": "code",
      "metadata": {
        "colab": {
          "base_uri": "https://localhost:8080/",
          "height": 424
        },
        "id": "XdUO3Bs6XsnR",
        "outputId": "98b0f2cc-e2bb-452f-e088-8f1b7a4b5f38"
      },
      "source": [
        "feature_vectors"
      ],
      "execution_count": 96,
      "outputs": [
        {
          "output_type": "execute_result",
          "data": {
            "text/html": [
              "<div>\n",
              "<style scoped>\n",
              "    .dataframe tbody tr th:only-of-type {\n",
              "        vertical-align: middle;\n",
              "    }\n",
              "\n",
              "    .dataframe tbody tr th {\n",
              "        vertical-align: top;\n",
              "    }\n",
              "\n",
              "    .dataframe thead th {\n",
              "        text-align: right;\n",
              "    }\n",
              "</style>\n",
              "<table border=\"1\" class=\"dataframe\">\n",
              "  <thead>\n",
              "    <tr style=\"text-align: right;\">\n",
              "      <th></th>\n",
              "      <th>GR</th>\n",
              "      <th>ILD_log10</th>\n",
              "      <th>DeltaPHI</th>\n",
              "      <th>PHIND</th>\n",
              "      <th>PE</th>\n",
              "      <th>NM_M</th>\n",
              "      <th>RELPOS</th>\n",
              "    </tr>\n",
              "  </thead>\n",
              "  <tbody>\n",
              "    <tr>\n",
              "      <th>0</th>\n",
              "      <td>77.450</td>\n",
              "      <td>0.664</td>\n",
              "      <td>9.900</td>\n",
              "      <td>11.915</td>\n",
              "      <td>4.600</td>\n",
              "      <td>1</td>\n",
              "      <td>1.000</td>\n",
              "    </tr>\n",
              "    <tr>\n",
              "      <th>1</th>\n",
              "      <td>78.260</td>\n",
              "      <td>0.661</td>\n",
              "      <td>14.200</td>\n",
              "      <td>12.565</td>\n",
              "      <td>4.100</td>\n",
              "      <td>1</td>\n",
              "      <td>0.979</td>\n",
              "    </tr>\n",
              "    <tr>\n",
              "      <th>2</th>\n",
              "      <td>79.050</td>\n",
              "      <td>0.658</td>\n",
              "      <td>14.800</td>\n",
              "      <td>13.050</td>\n",
              "      <td>3.600</td>\n",
              "      <td>1</td>\n",
              "      <td>0.957</td>\n",
              "    </tr>\n",
              "    <tr>\n",
              "      <th>3</th>\n",
              "      <td>86.100</td>\n",
              "      <td>0.655</td>\n",
              "      <td>13.900</td>\n",
              "      <td>13.115</td>\n",
              "      <td>3.500</td>\n",
              "      <td>1</td>\n",
              "      <td>0.936</td>\n",
              "    </tr>\n",
              "    <tr>\n",
              "      <th>4</th>\n",
              "      <td>74.580</td>\n",
              "      <td>0.647</td>\n",
              "      <td>13.500</td>\n",
              "      <td>13.300</td>\n",
              "      <td>3.400</td>\n",
              "      <td>1</td>\n",
              "      <td>0.915</td>\n",
              "    </tr>\n",
              "    <tr>\n",
              "      <th>...</th>\n",
              "      <td>...</td>\n",
              "      <td>...</td>\n",
              "      <td>...</td>\n",
              "      <td>...</td>\n",
              "      <td>...</td>\n",
              "      <td>...</td>\n",
              "      <td>...</td>\n",
              "    </tr>\n",
              "    <tr>\n",
              "      <th>4144</th>\n",
              "      <td>46.719</td>\n",
              "      <td>0.947</td>\n",
              "      <td>1.828</td>\n",
              "      <td>7.254</td>\n",
              "      <td>3.617</td>\n",
              "      <td>2</td>\n",
              "      <td>0.685</td>\n",
              "    </tr>\n",
              "    <tr>\n",
              "      <th>4145</th>\n",
              "      <td>44.563</td>\n",
              "      <td>0.953</td>\n",
              "      <td>2.241</td>\n",
              "      <td>8.013</td>\n",
              "      <td>3.344</td>\n",
              "      <td>2</td>\n",
              "      <td>0.677</td>\n",
              "    </tr>\n",
              "    <tr>\n",
              "      <th>4146</th>\n",
              "      <td>49.719</td>\n",
              "      <td>0.964</td>\n",
              "      <td>2.925</td>\n",
              "      <td>8.013</td>\n",
              "      <td>3.190</td>\n",
              "      <td>2</td>\n",
              "      <td>0.669</td>\n",
              "    </tr>\n",
              "    <tr>\n",
              "      <th>4147</th>\n",
              "      <td>51.469</td>\n",
              "      <td>0.965</td>\n",
              "      <td>3.083</td>\n",
              "      <td>7.708</td>\n",
              "      <td>3.152</td>\n",
              "      <td>2</td>\n",
              "      <td>0.661</td>\n",
              "    </tr>\n",
              "    <tr>\n",
              "      <th>4148</th>\n",
              "      <td>50.031</td>\n",
              "      <td>0.970</td>\n",
              "      <td>2.609</td>\n",
              "      <td>6.668</td>\n",
              "      <td>3.295</td>\n",
              "      <td>2</td>\n",
              "      <td>0.653</td>\n",
              "    </tr>\n",
              "  </tbody>\n",
              "</table>\n",
              "<p>3700 rows × 7 columns</p>\n",
              "</div>"
            ],
            "text/plain": [
              "          GR  ILD_log10  DeltaPHI   PHIND     PE  NM_M  RELPOS\n",
              "0     77.450      0.664     9.900  11.915  4.600     1   1.000\n",
              "1     78.260      0.661    14.200  12.565  4.100     1   0.979\n",
              "2     79.050      0.658    14.800  13.050  3.600     1   0.957\n",
              "3     86.100      0.655    13.900  13.115  3.500     1   0.936\n",
              "4     74.580      0.647    13.500  13.300  3.400     1   0.915\n",
              "...      ...        ...       ...     ...    ...   ...     ...\n",
              "4144  46.719      0.947     1.828   7.254  3.617     2   0.685\n",
              "4145  44.563      0.953     2.241   8.013  3.344     2   0.677\n",
              "4146  49.719      0.964     2.925   8.013  3.190     2   0.669\n",
              "4147  51.469      0.965     3.083   7.708  3.152     2   0.661\n",
              "4148  50.031      0.970     2.609   6.668  3.295     2   0.653\n",
              "\n",
              "[3700 rows x 7 columns]"
            ]
          },
          "metadata": {
            "tags": []
          },
          "execution_count": 96
        }
      ]
    },
    {
      "cell_type": "markdown",
      "metadata": {
        "id": "5dt7OiKpYqQX"
      },
      "source": [
        "The second machine learn algorithm is SOM. For this specific case, the best solution is [Somoclu](https://somoclu.readthedocs.io/en/stable/) because there are some interesting features to clusterize the BMUs if necessary. It is possible to plot the U-matrix to see the groups."
      ]
    },
    {
      "cell_type": "code",
      "metadata": {
        "colab": {
          "base_uri": "https://localhost:8080/"
        },
        "id": "aJ7H3aIe_qI2",
        "outputId": "a608767d-1508-421d-d5ad-90c8aa2e1b5d"
      },
      "source": [
        "import somoclu\n",
        "from sklearn.cluster import KMeans\n",
        "\n",
        "algorithm = KMeans(n_clusters)\n",
        "\n",
        "def predict(som_model, data):\n",
        "    W = som_model.codebook.reshape((som_model.codebook.shape[0] * som_model.codebook.shape[1], som_model.codebook.shape[2]))\n",
        "    X = data\n",
        "\n",
        "    D = -2*np.dot(W, X.T) + (W**2).sum(1)[:, None] + (X**2).sum(1)[:, None].T\n",
        "    BMU = (D==D.min(0)[None,:]).astype(\"float32\").T\n",
        "    NBMU =  BMU.reshape((X.shape[0], som_model.codebook.shape[0], som_model.codebook.shape[1]))\n",
        "    return np.vstack(NBMU.nonzero()[1:][::-1]).T\n",
        "\n",
        "def convert_coords(data, n_rows):\n",
        "    new_data = []\n",
        "    i = 0\n",
        "    for item in data:\n",
        "        x, y = item\n",
        "        new_data.append(som.clusters[y, x])\n",
        "    return np.array(new_data)\n",
        "\n",
        "n_rows, n_columns = 13, 15\n",
        "som = somoclu.Somoclu(n_columns, n_rows, compactsupport=False, initialization=\"pca\")\n",
        "\n",
        "som.train(np.nan_to_num(X_train))\n",
        "\n",
        "som.cluster(algorithm=algorithm)\n",
        "\n",
        "y_pred_som = predict(som, X_blind)\n",
        "y_pred_som = convert_coords(y_pred_som, n_rows)"
      ],
      "execution_count": 97,
      "outputs": [
        {
          "output_type": "stream",
          "text": [
            "Warning: data was not float32. A 32-bit copy was made\n"
          ],
          "name": "stdout"
        }
      ]
    },
    {
      "cell_type": "markdown",
      "metadata": {
        "id": "4Itp0l4SZEde"
      },
      "source": [
        "This is a useless postprocessing phase. It is required to map each group to the proper facie (label)."
      ]
    },
    {
      "cell_type": "code",
      "metadata": {
        "colab": {
          "base_uri": "https://localhost:8080/"
        },
        "id": "KG8U5afwZAwY",
        "outputId": "4db91e8b-cb88-4565-dadd-3430737a0c74"
      },
      "source": [
        "from sympy.utilities.iterables import multiset_permutations\n",
        "from sklearn.metrics import confusion_matrix\n",
        "\n",
        "def accuracy(conf):\n",
        "    total_correct = 0.\n",
        "    nb_classes = conf.shape[0]\n",
        "    for i in np.arange(0, nb_classes):\n",
        "        total_correct += conf[i][i]\n",
        "    acc = total_correct/sum(sum(conf))\n",
        "    return acc\n",
        "\n",
        "def accuracy_adjacent(conf, adjacent_facies):\n",
        "    nb_classes = conf.shape[0]\n",
        "    total_correct = 0.\n",
        "    for i in np.arange(0, nb_classes):\n",
        "        total_correct += conf[i][i]\n",
        "        for j in adjacent_facies[i]:\n",
        "            total_correct += conf[i][j]\n",
        "    return total_correct / sum(sum(conf))\n",
        "\n",
        "def silly_map(y_data):\n",
        "    shuffled = np.arange(n_clusters)\n",
        "    acc = 0.0\n",
        "    y_new = None\n",
        "    for p in multiset_permutations(shuffled):\n",
        "        y_data_new = np.ones(y_data.size) * -1\n",
        "        for j in range(n_clusters):\n",
        "            y_data_new[y_data == j] = p[j]\n",
        "        cv_conf_data = confusion_matrix(y_blind, y_data_new)\n",
        "        if accuracy(cv_conf_data) >= acc:\n",
        "            acc = accuracy(cv_conf_data)\n",
        "            y_new = y_data_new\n",
        "    return y_new\n",
        "\n",
        "y_pred_kmeans_new = silly_map(y_pred_kmeans)\n",
        "y_pred_som_new = silly_map(y_pred_som)\n",
        "\n",
        "blind['PredictionKMeans'] = y_pred_kmeans_new\n",
        "blind['PredictionSOM'] = y_pred_som_new\n",
        "\n",
        "cv_conf_kmeans = confusion_matrix(y_blind, y_pred_kmeans_new)\n",
        "cv_conf_som = confusion_matrix(y_blind, y_pred_som_new)"
      ],
      "execution_count": 98,
      "outputs": [
        {
          "output_type": "stream",
          "text": [
            "/usr/local/lib/python3.7/dist-packages/ipykernel_launcher.py:38: SettingWithCopyWarning: \n",
            "A value is trying to be set on a copy of a slice from a DataFrame.\n",
            "Try using .loc[row_indexer,col_indexer] = value instead\n",
            "\n",
            "See the caveats in the documentation: https://pandas.pydata.org/pandas-docs/stable/user_guide/indexing.html#returning-a-view-versus-a-copy\n",
            "/usr/local/lib/python3.7/dist-packages/ipykernel_launcher.py:39: SettingWithCopyWarning: \n",
            "A value is trying to be set on a copy of a slice from a DataFrame.\n",
            "Try using .loc[row_indexer,col_indexer] = value instead\n",
            "\n",
            "See the caveats in the documentation: https://pandas.pydata.org/pandas-docs/stable/user_guide/indexing.html#returning-a-view-versus-a-copy\n"
          ],
          "name": "stderr"
        }
      ]
    },
    {
      "cell_type": "markdown",
      "metadata": {
        "id": "DQVh2jQKZTex"
      },
      "source": [
        "Time to see the accuracy of each algorithm..."
      ]
    },
    {
      "cell_type": "code",
      "metadata": {
        "colab": {
          "base_uri": "https://localhost:8080/"
        },
        "id": "NhH_xvWeS37u",
        "outputId": "328b69d8-9fb6-4244-a4b1-ddef7abd7cb0"
      },
      "source": [
        "adjacent_facies = np.array([[1], [0,2], [1], [4], [3,5], [4,6,7], [5,7], [5,6,8], [6,7]])\n",
        "\n",
        "print('Optimized facies classification accuracy = %.3f' % accuracy(cv_conf_kmeans))\n",
        "print('Optimized facies classification accuracy = %.3f' % accuracy(cv_conf_som))\n",
        "print('Optimized adjacent facies classification accuracy = %.3f' % accuracy_adjacent(cv_conf_kmeans, adjacent_facies))\n",
        "print('Optimized adjacent facies classification accuracy = %.3f' % accuracy_adjacent(cv_conf_som, adjacent_facies))"
      ],
      "execution_count": 99,
      "outputs": [
        {
          "output_type": "stream",
          "text": [
            "Optimized facies classification accuracy = 0.488\n",
            "Optimized facies classification accuracy = 0.579\n",
            "Optimized adjacent facies classification accuracy = 0.713\n",
            "Optimized adjacent facies classification accuracy = 0.775\n"
          ],
          "name": "stdout"
        },
        {
          "output_type": "stream",
          "text": [
            "/usr/local/lib/python3.7/dist-packages/ipykernel_launcher.py:1: VisibleDeprecationWarning: Creating an ndarray from ragged nested sequences (which is a list-or-tuple of lists-or-tuples-or ndarrays with different lengths or shapes) is deprecated. If you meant to do this, you must specify 'dtype=object' when creating the ndarray\n",
            "  \"\"\"Entry point for launching an IPython kernel.\n"
          ],
          "name": "stderr"
        }
      ]
    },
    {
      "cell_type": "markdown",
      "metadata": {
        "id": "i32MG0tsZfk3"
      },
      "source": [
        "Finally, let's see a visual comparison of each prediction of the facies."
      ]
    },
    {
      "cell_type": "code",
      "metadata": {
        "colab": {
          "base_uri": "https://localhost:8080/",
          "height": 767
        },
        "id": "Y3Tf7Mcm7Mlr",
        "outputId": "92ef7ebc-0d72-48d6-b6d8-d7e5a89b0714"
      },
      "source": [
        "def compare_facies_plot(logs, compadre, facies_colors):\n",
        "    #make sure logs are sorted by depth\n",
        "    logs = logs.sort_values(by='Depth')\n",
        "    cmap_facies = colors.ListedColormap(\n",
        "            facies_colors[0:len(facies_colors)], 'indexed')\n",
        "    \n",
        "    ztop=logs.Depth.min(); zbot=logs.Depth.max()\n",
        "    \n",
        "    cluster1 = np.repeat(np.expand_dims(logs['Facies'].values,1), 100, 1)\n",
        "    cluster2 = np.repeat(np.expand_dims(logs[compadre + 'KMeans'].values,1), 100, 1)\n",
        "    cluster3 = np.repeat(np.expand_dims(logs[compadre + 'SOM'].values,1), 100, 1)\n",
        "    \n",
        "    f, ax = plt.subplots(nrows=1, ncols=8, figsize=(9, 12))\n",
        "    ax[0].plot(logs.GR, logs.Depth, '-g')\n",
        "    ax[1].plot(logs.ILD_log10, logs.Depth, '-')\n",
        "    ax[2].plot(logs.DeltaPHI, logs.Depth, '-', color='0.5')\n",
        "    ax[3].plot(logs.PHIND, logs.Depth, '-', color='r')\n",
        "    ax[4].plot(logs.PE, logs.Depth, '-', color='black')\n",
        "    im1 = ax[5].imshow(cluster1, interpolation='none', aspect='auto',\n",
        "                    cmap=cmap_facies,vmin=1,vmax=9)\n",
        "    im2 = ax[6].imshow(cluster2, interpolation='none', aspect='auto',\n",
        "                    cmap=cmap_facies,vmin=1,vmax=9)\n",
        "    im3 = ax[7].imshow(cluster3, interpolation='none', aspect='auto',\n",
        "                    cmap=cmap_facies,vmin=1,vmax=9)\n",
        "    \n",
        "    divider = make_axes_locatable(ax[7])\n",
        "    cax = divider.append_axes(\"right\", size=\"20%\", pad=0.05)\n",
        "    cbar=plt.colorbar(im3, cax=cax)\n",
        "    cbar.set_label((17*' ').join([' SS ', 'CSiS', 'FSiS', \n",
        "                                'SiSh', ' MS ', ' WS ', ' D  ', \n",
        "                                ' PS ', ' BS ']))\n",
        "    cbar.set_ticks(range(0,1)); cbar.set_ticklabels('')\n",
        "    \n",
        "    for i in range(len(ax)-3):\n",
        "        ax[i].set_ylim(ztop,zbot)\n",
        "        ax[i].invert_yaxis()\n",
        "        ax[i].grid()\n",
        "        ax[i].locator_params(axis='x', nbins=3)\n",
        "    \n",
        "    ax[0].set_xlabel(\"GR\")\n",
        "    ax[0].set_xlim(logs.GR.min(),logs.GR.max())\n",
        "    ax[1].set_xlabel(\"ILD_log10\")\n",
        "    ax[1].set_xlim(logs.ILD_log10.min(),logs.ILD_log10.max())\n",
        "    ax[2].set_xlabel(\"DeltaPHI\")\n",
        "    ax[2].set_xlim(logs.DeltaPHI.min(),logs.DeltaPHI.max())\n",
        "    ax[3].set_xlabel(\"PHIND\")\n",
        "    ax[3].set_xlim(logs.PHIND.min(),logs.PHIND.max())\n",
        "    ax[4].set_xlabel(\"PE\")\n",
        "    ax[4].set_xlim(logs.PE.min(),logs.PE.max())\n",
        "    ax[5].set_xlabel('Facies')\n",
        "    ax[6].set_xlabel('KMeans')\n",
        "    ax[7].set_xlabel('SOM')\n",
        "    \n",
        "    ax[1].set_yticklabels([]); ax[2].set_yticklabels([]); ax[3].set_yticklabels([])\n",
        "    ax[4].set_yticklabels([]); ax[5].set_yticklabels([])\n",
        "    ax[5].set_xticklabels([])\n",
        "    ax[6].set_xticklabels([])\n",
        "    ax[7].set_xticklabels([])\n",
        "    f.suptitle('Well: %s'%logs.iloc[0]['Well Name'], fontsize=14,y=0.94)\n",
        "\n",
        "compare_facies_plot(blind, 'Prediction', facies_colors)"
      ],
      "execution_count": 100,
      "outputs": [
        {
          "output_type": "display_data",
          "data": {
            "image/png": "[encoded data removed]",
            "text/plain": [
              "<Figure size 648x864 with 9 Axes>"
            ]
          },
          "metadata": {
            "tags": [],
            "needs_background": "light"
          }
        }
      ]
    }
  ]
}