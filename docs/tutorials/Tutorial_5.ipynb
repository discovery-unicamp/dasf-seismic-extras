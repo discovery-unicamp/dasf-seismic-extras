{
 "cells": [
  {
   "cell_type": "markdown",
   "id": "4abc8088-95c5-472b-81e4-3bd63d215727",
   "metadata": {},
   "source": [
    "# **Tutorial 5**\n",
    "\n",
    "### **Debuging Dask Data**\n",
    "\n",
    "This tutorial, we will present how you can capture data from pipeline and debug it. In special, if you need to handle how dask is generating data graphs or the flow of the dask chunks.\n",
    "\n",
    "Following the same behaviour we are doing, we will use the same example used previously, but instead of plot the image, we will debug to see the data. Let's split up the *F3 Block* in small parts now to avoid big figures of the data graph."
   ]
  },
  {
   "cell_type": "code",
   "execution_count": null,
   "id": "d3ce9d9c-7761-43fb-a760-165b503e0cb7",
   "metadata": {},
   "outputs": [],
   "source": [
    "from dasf_seismic.datasets import F3\n",
    "from dasf_seismic.transforms import SEGYToArray\n",
    "from dasf_seismic.attributes.complex_trace import InstantaneousBandwidth\n",
    "from dasf.transforms import ExtractData\n",
    "\n",
    "dataset = F3(chunks={\"iline\": 200})\n",
    "\n",
    "extracted_data = ExtractData()\n",
    "\n",
    "ib = InstantaneousBandwidth()"
   ]
  },
  {
   "cell_type": "markdown",
   "id": "a3c40272-3b19-4df5-b37e-fd66a5351bb7",
   "metadata": {},
   "source": [
    "We have the option to create a pipeline without attaching an executor, but as we want to debug Dask, we are forced to create one instance."
   ]
  },
  {
   "cell_type": "code",
   "execution_count": null,
   "id": "17f89cb9-f73c-4045-aea1-249384385161",
   "metadata": {},
   "outputs": [],
   "source": [
    "from dasf.pipeline.executors import DaskPipelineExecutor\n",
    "\n",
    "dask = DaskPipelineExecutor(use_gpu=True)"
   ]
  },
  {
   "cell_type": "markdown",
   "id": "d8674f81-dcdc-4098-976e-da57edb06298",
   "metadata": {},
   "source": [
    "To debug data, we have two data structures `Debug` and `VisualizaDaskData`. Let's create both to see what they display."
   ]
  },
  {
   "cell_type": "code",
   "execution_count": null,
   "id": "dadeebcc-982a-4bdc-8076-79d361dbd509",
   "metadata": {},
   "outputs": [],
   "source": [
    "from dasf.debug import Debug, VisualizeDaskData\n",
    "\n",
    "debug = Debug()\n",
    "visualize_dask = VisualizeDaskData(\"InstantaneousBandwidth.png\")"
   ]
  },
  {
   "cell_type": "markdown",
   "id": "d88a3af0-bc36-4146-b107-8c6e1064e661",
   "metadata": {},
   "source": [
    "We can create our pipeline now appending our two new debug operators at the end."
   ]
  },
  {
   "cell_type": "code",
   "execution_count": null,
   "id": "9a0e0646-bcfa-40e3-8a3b-68173102de95",
   "metadata": {},
   "outputs": [],
   "source": [
    "from dasf.pipeline import Pipeline\n",
    "\n",
    "pipeline = Pipeline(\"F3 Block plot dynamically\", executor=dask)\n",
    "\n",
    "pipeline.add(extracted_data, X=dataset) \\\n",
    "        .add(ib, X=extracted_data) \\\n",
    "        .add(debug.display, X=ib) \\\n",
    "        .add(visualize_dask.display, X=debug.display) \\\n",
    "        .visualize()"
   ]
  },
  {
   "cell_type": "markdown",
   "id": "484068af-846d-404c-87af-8870c810289d",
   "metadata": {},
   "source": [
    "Time to run it and see what happens."
   ]
  },
  {
   "cell_type": "code",
   "execution_count": null,
   "id": "05a4969c-b7cb-4c59-93aa-8f413ddd8826",
   "metadata": {},
   "outputs": [],
   "source": [
    "%time pipeline.run()"
   ]
  },
  {
   "cell_type": "markdown",
   "id": "bd8160fb-9c75-414a-a779-17593de448a5",
   "metadata": {},
   "source": [
    "As we can see, it is possible to have a big picture of how the F3 block is divided and the size of each chunk.\n",
    "\n",
    "The picture is not being rendered because it is too big to fit into the notebook output, but you can open it and see the dask data graph."
   ]
  },
  {
   "cell_type": "code",
   "execution_count": null,
   "id": "150420b0-2a3f-47fd-bb73-4a566eadef7e",
   "metadata": {},
   "outputs": [],
   "source": []
  }
 ],
 "metadata": {
  "kernelspec": {
   "display_name": "Python 3 (ipykernel)",
   "language": "python",
   "name": "python3"
  },
  "language_info": {
   "codemirror_mode": {
    "name": "ipython",
    "version": 3
   },
   "file_extension": ".py",
   "mimetype": "text/x-python",
   "name": "python",
   "nbconvert_exporter": "python",
   "pygments_lexer": "ipython3",
   "version": "3.10.6"
  }
 },
 "nbformat": 4,
 "nbformat_minor": 5
}
