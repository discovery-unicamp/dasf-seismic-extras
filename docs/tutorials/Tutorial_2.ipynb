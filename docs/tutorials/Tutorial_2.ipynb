{
 "cells": [
  {
   "cell_type": "markdown",
   "id": "cc17c467",
   "metadata": {},
   "source": [
    "# **Tutorial 2**\n",
    "\n",
    "### **A Machine Learning Pipeline for Seismic**\n",
    "\n",
    "In this second tutorial, we will learn how to create a quick example of seismic classification using a non-supervised machine learning algorithm. In other words, we will classify a cube using K-Means algorithm.\n",
    "\n",
    "We need to create a similar pipeline as we did previously. This time, we can increase the size of our iline blocks to split up each block to some worker."
   ]
  },
  {
   "cell_type": "code",
   "execution_count": null,
   "id": "0854b41f",
   "metadata": {},
   "outputs": [],
   "source": [
    "from dasf_seismic.datasets import F3\n",
    "\n",
    "dataset = F3(chunks={\"iline\": 5})"
   ]
  },
  {
   "cell_type": "markdown",
   "id": "8ac06c0d",
   "metadata": {},
   "source": [
    "The ExtractData operator is used to get the array data from the Dataset class"
   ]
  },
  {
   "cell_type": "code",
   "execution_count": null,
   "id": "6120deb5",
   "metadata": {},
   "outputs": [],
   "source": [
    "from dasf.transforms import ExtractData\n",
    "\n",
    "extracted_data = ExtractData()"
   ]
  },
  {
   "cell_type": "markdown",
   "id": "b0b74384",
   "metadata": {},
   "source": [
    "We are using the *F3 Block* and we would like to verify if this data has any hydrocarbonate structure. To do that we selected 4 attributes commonly used to highlight structures like that: Envelope, Sweetness and Apparent Polarity."
   ]
  },
  {
   "cell_type": "code",
   "execution_count": null,
   "id": "ca44e0f6",
   "metadata": {},
   "outputs": [],
   "source": [
    "from dasf_seismic.attributes.complex_trace import Envelope, Sweetness, ApparentPolarity\n",
    "\n",
    "envelope = Envelope()\n",
    "sweetness = Sweetness()\n",
    "polarity = ApparentPolarity()"
   ]
  },
  {
   "cell_type": "markdown",
   "id": "1cd1de13",
   "metadata": {},
   "source": [
    "Now, we need to combine that strcuture in a single data. So, we need to concatenate them into a single block. We can concatenate into a new array or into dataframe, it does not matter. But, we need to use a 2-D data (with N-features) because most of the machine learning algorithms use that input dimension."
   ]
  },
  {
   "cell_type": "code",
   "execution_count": null,
   "id": "ce8e4b93",
   "metadata": {},
   "outputs": [],
   "source": [
    "from dasf.transforms import ArraysToDataFrame\n",
    "\n",
    "arrays2df = ArraysToDataFrame()"
   ]
  },
  {
   "cell_type": "markdown",
   "id": "91be9f83",
   "metadata": {},
   "source": [
    "It is recurring that we don't train our algorithm using the whole dataset. Now, let's use only 5% of the generate data to train K-Means. It is faster enough and it avoids a crash when we execute the persist method."
   ]
  },
  {
   "cell_type": "code",
   "execution_count": null,
   "id": "008f1bd7",
   "metadata": {},
   "outputs": [],
   "source": [
    "from dasf.transforms import SliceArrayByPercent\n",
    "\n",
    "slicearr = SliceArrayByPercent(5.0)"
   ]
  },
  {
   "cell_type": "markdown",
   "id": "fd3b1aa5",
   "metadata": {},
   "source": [
    "The next step, we need to normalize the data to get a better result when we fit K-Means."
   ]
  },
  {
   "cell_type": "code",
   "execution_count": null,
   "id": "ddcd92d2",
   "metadata": {},
   "outputs": [],
   "source": [
    "from dasf.transforms import Normalize\n",
    "\n",
    "normalize = Normalize()"
   ]
  },
  {
   "cell_type": "markdown",
   "id": "a25078b0",
   "metadata": {},
   "source": [
    "To avoid recalculation, we can keep data saved after attribute calculation. **It can reduces memory usage but it is dangerous when you are using a local Dask cluster.**"
   ]
  },
  {
   "cell_type": "code",
   "execution_count": null,
   "id": "ab160bf5",
   "metadata": {},
   "outputs": [],
   "source": [
    "from dasf.transforms import PersistDaskData\n",
    "\n",
    "persist = PersistDaskData()"
   ]
  },
  {
   "cell_type": "markdown",
   "id": "d09cf81f",
   "metadata": {},
   "source": [
    "In the next step, let's create our K-Means instance. It is important to understand here that K-Means is a parameter because it does not change its state."
   ]
  },
  {
   "cell_type": "code",
   "execution_count": null,
   "id": "dfdbc239",
   "metadata": {},
   "outputs": [],
   "source": [
    "from dasf.ml.cluster import KMeans\n",
    "\n",
    "kmeans = KMeans(n_clusters=15, max_iter=50)"
   ]
  },
  {
   "cell_type": "markdown",
   "id": "59283099",
   "metadata": {},
   "source": [
    "To finalize our data definitions, we want to plot the predicted data. So we need to reshape the output of the KMeans.fit_predict, as it returns a 1-D array, and then plot an inline."
   ]
  },
  {
   "cell_type": "code",
   "execution_count": null,
   "id": "5df0b002",
   "metadata": {},
   "outputs": [],
   "source": [
    "from dasf.transforms.operations import Reshape\n",
    "from dasf_seismic.visualization import Plot2DIline\n",
    "\n",
    "il, xl, z = dataset.shape\n",
    "\n",
    "reshape = Reshape(shape=(il*5//100, xl, z))\n",
    "iline_index = 20\n",
    "\n",
    "plot = Plot2DIline(name=(\"Plot F3 block iline=\" + str(iline_index)), iline_index=iline_index, swapaxes=(0, 1), cmap=\"rainbow\")\n"
   ]
  },
  {
   "cell_type": "markdown",
   "id": "528411c6",
   "metadata": {},
   "source": [
    "Now, let's create a local Dask cluster without using a GPU. If you have one available, you can just unset this parameter, but this is a tutorial and the purpose of this is show you how you can enable/disable features for instance."
   ]
  },
  {
   "cell_type": "code",
   "execution_count": null,
   "id": "96f6bcb9",
   "metadata": {},
   "outputs": [],
   "source": [
    "from dasf.pipeline.executors import DaskPipelineExecutor\n",
    "\n",
    "dask = DaskPipelineExecutor()"
   ]
  },
  {
   "cell_type": "markdown",
   "id": "ae4ef64a",
   "metadata": {},
   "source": [
    "Now, it is time to build our pipeline. Remember that we have two parameters: F3 dataset and K-Means."
   ]
  },
  {
   "cell_type": "code",
   "execution_count": null,
   "id": "b7310d60",
   "metadata": {},
   "outputs": [],
   "source": [
    "from dasf.pipeline import Pipeline\n",
    "\n",
    "pipeline = Pipeline(\"F3 Block plot pipeline\", executor=dask)\n",
    "\n",
    "pipeline.add(extracted_data, X=dataset) \\\n",
    "        .add(slicearr, X=extracted_data) \\\n",
    "        .add(envelope, X=slicearr) \\\n",
    "        .add(sweetness, X=slicearr) \\\n",
    "        .add(polarity, X=slicearr) \\\n",
    "        .add(arrays2df, envelope=envelope, sweetness=sweetness, polarity=polarity) \\\n",
    "        .add(normalize, X=arrays2df) \\\n",
    "        .add(persist, X=normalize) \\\n",
    "        .add(kmeans.fit_predict, X=persist) \\\n",
    "        .add(reshape, X=kmeans.fit_predict) \\\n",
    "        .add(plot.plot, X=reshape) \\\n",
    "        .visualize()"
   ]
  },
  {
   "cell_type": "markdown",
   "id": "e5a3a902",
   "metadata": {},
   "source": [
    "Now, it is time to run it and plot."
   ]
  },
  {
   "cell_type": "code",
   "execution_count": null,
   "id": "03dae063",
   "metadata": {
    "scrolled": true
   },
   "outputs": [],
   "source": [
    "%time pipeline.run()"
   ]
  },
  {
   "cell_type": "code",
   "execution_count": null,
   "id": "aa16c733",
   "metadata": {},
   "outputs": [],
   "source": []
  }
 ],
 "metadata": {
  "kernelspec": {
   "display_name": "Python 3 (ipykernel)",
   "language": "python",
   "name": "python3"
  },
  "language_info": {
   "codemirror_mode": {
    "name": "ipython",
    "version": 3
   },
   "file_extension": ".py",
   "mimetype": "text/x-python",
   "name": "python",
   "nbconvert_exporter": "python",
   "pygments_lexer": "ipython3",
   "version": "3.10.6"
  }
 },
 "nbformat": 4,
 "nbformat_minor": 5
}
