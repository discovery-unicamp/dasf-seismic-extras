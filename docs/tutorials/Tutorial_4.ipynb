{
 "cells": [
  {
   "cell_type": "markdown",
   "id": "72b7d2b5-f0ec-48f9-83a1-089a0f199fd8",
   "metadata": {},
   "source": [
    "# **Tutorial 4**\n",
    "\n",
    "### **Dynamic Visualization**\n",
    "\n",
    "The next tutorial should be similar to the first one with a difference: we need to remove the plotting part. Now, the objective is to plot some result dynamically using Dasf widgets.\n",
    "\n",
    "To do it, let's recreate the same pipline in one shot."
   ]
  },
  {
   "cell_type": "code",
   "execution_count": null,
   "id": "798516cd-6af3-4713-8343-e1b5fd1d68fa",
   "metadata": {},
   "outputs": [],
   "source": [
    "from dasf_seismic.datasets import F3\n",
    "from dasf.transforms import ExtractData\n",
    "from dasf_seismic.attributes.complex_trace import InstantaneousBandwidth\n",
    "\n",
    "dataset = F3(chunks={\"iline\": 5})\n",
    "\n",
    "extracted_data = ExtractData()\n",
    "\n",
    "ib = InstantaneousBandwidth()"
   ]
  },
  {
   "cell_type": "markdown",
   "id": "a31b639f-792d-44f4-9f05-668adeba5a8f",
   "metadata": {},
   "source": [
    "Now, we can create our cluster instance."
   ]
  },
  {
   "cell_type": "code",
   "execution_count": null,
   "id": "70241e30-55ef-45a1-a87e-0103e5a7173f",
   "metadata": {},
   "outputs": [],
   "source": [
    "from dasf.pipeline.executors import DaskPipelineExecutor\n",
    "\n",
    "dask = DaskPipelineExecutor()"
   ]
  },
  {
   "cell_type": "markdown",
   "id": "2f513e2b-3077-4b85-b0b4-d600724ea4e7",
   "metadata": {},
   "source": [
    "Then, we can create our simple pipeline."
   ]
  },
  {
   "cell_type": "code",
   "execution_count": null,
   "id": "c50b492c-e0a8-40b5-80e8-04fb395ed93d",
   "metadata": {},
   "outputs": [],
   "source": [
    "from dasf.pipeline import Pipeline\n",
    "\n",
    "pipeline = Pipeline(\"F3 Block plot dynamically\", executor=dask)\n",
    "\n",
    "\n",
    "pipeline.add(extracted_data, X=dataset) \\\n",
    "        .add(ib, X=extracted_data) \\\n",
    "        .visualize()"
   ]
  },
  {
   "cell_type": "markdown",
   "id": "b023059e-eee3-4eaa-b53b-d336ab8fd5a4",
   "metadata": {},
   "source": [
    "If we run this pipeline, it will take some miliseconds to finish. There is no computation applied into that pipeline. Although, we need to capture the result."
   ]
  },
  {
   "cell_type": "code",
   "execution_count": null,
   "id": "f587f7fe-4889-44bc-a06a-1bb25f30d811",
   "metadata": {},
   "outputs": [],
   "source": [
    "%time result = pipeline.run()"
   ]
  },
  {
   "cell_type": "markdown",
   "id": "7428e930-0be0-46fe-b45d-7cb95cd59a25",
   "metadata": {},
   "source": [
    "Once the result is saved, we need to capture the result of the specific operator we want to plot. In this case, we want to plot the attribute."
   ]
  },
  {
   "cell_type": "code",
   "execution_count": null,
   "id": "6568df5c-8673-4759-adc2-18ce4a440df8",
   "metadata": {},
   "outputs": [],
   "source": [
    "operator = pipeline.get_result_from(ib)"
   ]
  },
  {
   "cell_type": "code",
   "execution_count": null,
   "id": "46f5ee05",
   "metadata": {},
   "outputs": [],
   "source": [
    "operator"
   ]
  },
  {
   "cell_type": "markdown",
   "id": "1238e806-afaa-4f6e-95ed-38b978774116",
   "metadata": {},
   "source": [
    "It is time to plot the sweetness operator using `PlotSEGYDistributedInternal` widget."
   ]
  },
  {
   "cell_type": "code",
   "execution_count": null,
   "id": "5cd8cdd2-6cda-443d-82c7-d3fb80ab3270",
   "metadata": {},
   "outputs": [],
   "source": [
    "%matplotlib widget\n",
    "\n",
    "from dasf_seismic.notebook.plot import PlotSEGYDistributedInternal\n",
    "\n",
    "PlotSEGYDistributedInternal(operator, figsize=(9, 6))"
   ]
  },
  {
   "cell_type": "code",
   "execution_count": null,
   "id": "9b8dda27-f267-4943-89aa-16427152990c",
   "metadata": {},
   "outputs": [],
   "source": []
  }
 ],
 "metadata": {
  "kernelspec": {
   "display_name": "Python 3 (ipykernel)",
   "language": "python",
   "name": "python3"
  },
  "language_info": {
   "codemirror_mode": {
    "name": "ipython",
    "version": 3
   },
   "file_extension": ".py",
   "mimetype": "text/x-python",
   "name": "python",
   "nbconvert_exporter": "python",
   "pygments_lexer": "ipython3",
   "version": "3.10.6"
  }
 },
 "nbformat": 4,
 "nbformat_minor": 5
}
