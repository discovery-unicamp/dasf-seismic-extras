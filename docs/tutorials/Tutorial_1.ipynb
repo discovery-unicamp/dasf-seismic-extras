{
 "cells": [
  {
   "cell_type": "markdown",
   "id": "78f00e21-d0c2-4566-91a6-a1d3bb90314e",
   "metadata": {},
   "source": [
    "### Tutorial 1\n",
    "\n",
    "In this tutorial, you will learn how to fetch and open a public datasets, calculate a simple attribute and plot the `iline=100` using a simple plot tool presented in our framework.\n",
    "\n",
    "First, let's define one simple dataset. For this example, we are going to use the *F3 Netherlands* block. Its format is SEG-Y, so we need to handle it as an array. DASF uses Dask to split the original data in chunks to speed up some processes. So, to get a quick plot, let's split up this block in iline blocks with dimension of 5."
   ]
  },
  {
   "cell_type": "code",
   "execution_count": null,
   "id": "8abb8e2a-eb12-47db-8647-ef843617ef43",
   "metadata": {},
   "outputs": [],
   "source": [
    "from dasf_seismic.datasets import F3\n",
    "\n",
    "dataset = F3(chunks={\"iline\": 5})"
   ]
  },
  {
   "cell_type": "markdown",
   "id": "db6f2c47-b6ef-4ac7-a7ee-dc996de5bd13",
   "metadata": {},
   "source": [
    "In the next step, we need to define which attribute we want to calculate. You can pick any of them, but for this example we are using *Envelope*."
   ]
  },
  {
   "cell_type": "code",
   "execution_count": null,
   "id": "e9f09a57-9b04-4a90-b90c-2dbcf00c4d52",
   "metadata": {},
   "outputs": [],
   "source": [
    "from dasf_seismic.attributes.complex_trace import Envelope\n",
    "\n",
    "envelope = Envelope()"
   ]
  },
  {
   "cell_type": "markdown",
   "id": "8ee2b838",
   "metadata": {},
   "source": [
    "The ExtractData operator is used to get the data array from the Dataset class"
   ]
  },
  {
   "cell_type": "code",
   "execution_count": null,
   "id": "73dd45cd",
   "metadata": {},
   "outputs": [],
   "source": [
    "from dasf.transforms import ExtractData\n",
    "\n",
    "extracted_data = ExtractData()"
   ]
  },
  {
   "cell_type": "markdown",
   "id": "ea9e6b81-42e8-4e6c-b695-931f2b25dd2a",
   "metadata": {},
   "source": [
    "The last item of our pipeline is the plot item. We want to plot the `iline=100` and the orientation of *F3 Block* is 90 degrees wrong. To fix this, we can change the `swapaxes` option to fix. For futher testing, you can remove this option and see what happens."
   ]
  },
  {
   "cell_type": "code",
   "execution_count": null,
   "id": "e1ac09b0-27a5-423e-9027-13b33420ae9b",
   "metadata": {},
   "outputs": [],
   "source": [
    "from dasf_seismic.visualization import Plot2DIline\n",
    "\n",
    "plot = Plot2DIline(name=\"Plot F3 block iline\", iline_index=100, swapaxes=(0, 1))"
   ]
  },
  {
   "cell_type": "markdown",
   "id": "2d9fc064-600e-489f-9f81-af3af459c869",
   "metadata": {},
   "source": [
    "Now, it is time to connect everything and create our pipeline. But first, we need to define which is our executor. We need that because we don't which type of the architecture will be responsible to execute it. For this example, we will create a simple local Dask cluster."
   ]
  },
  {
   "cell_type": "code",
   "execution_count": null,
   "id": "854021f2-9af6-4826-974c-3bccbc22683f",
   "metadata": {},
   "outputs": [],
   "source": [
    "from dasf.pipeline.executors import DaskPipelineExecutor\n",
    "\n",
    "dask = DaskPipelineExecutor(local=True, use_gpu=True)"
   ]
  },
  {
   "cell_type": "markdown",
   "id": "405287a1-ac8b-4078-a9d9-aff5abe5a32d",
   "metadata": {},
   "source": [
    "Finally, it is time to create our pipeline and attach into it our new dask cluster."
   ]
  },
  {
   "cell_type": "code",
   "execution_count": null,
   "id": "5751e942-f57e-464b-9c1a-86d037d21961",
   "metadata": {},
   "outputs": [],
   "source": [
    "from dasf.pipeline import Pipeline\n",
    "\n",
    "pipeline = Pipeline(\"F3 Block plot pipeline\", executor=dask)"
   ]
  },
  {
   "cell_type": "markdown",
   "id": "8f89cf4e-ed73-4141-afa2-589b7e923bc9",
   "metadata": {},
   "source": [
    "Now, let'sseismiconnect everything and visualize how our pipeline looks like first."
   ]
  },
  {
   "cell_type": "code",
   "execution_count": null,
   "id": "da160a7e-27c5-42da-a6ca-24eecbca7f9c",
   "metadata": {},
   "outputs": [],
   "source": [
    "pipeline.add(extracted_data, X=dataset) \\\n",
    "        .add(envelope, X=extracted_data) \\\n",
    "        .add(plot.plot, X=envelope) \\\n",
    "        .visualize()"
   ]
  },
  {
   "cell_type": "markdown",
   "id": "e6547e3e-345b-4022-9df2-d70de696c103",
   "metadata": {},
   "source": [
    "Now, it is time to run it and plot."
   ]
  },
  {
   "cell_type": "code",
   "execution_count": null,
   "id": "3787a9a0-4496-479f-a432-70856fcfd9c4",
   "metadata": {},
   "outputs": [],
   "source": [
    "%time pipeline.run()"
   ]
  },
  {
   "cell_type": "code",
   "execution_count": null,
   "id": "afaa5839-7632-41b3-84f6-05090998041b",
   "metadata": {},
   "outputs": [],
   "source": []
  }
 ],
 "metadata": {
  "kernelspec": {
   "display_name": "Python 3 (ipykernel)",
   "language": "python",
   "name": "python3"
  },
  "language_info": {
   "codemirror_mode": {
    "name": "ipython",
    "version": 3
   },
   "file_extension": ".py",
   "mimetype": "text/x-python",
   "name": "python",
   "nbconvert_exporter": "python",
   "pygments_lexer": "ipython3",
   "version": "3.10.6"
  }
 },
 "nbformat": 4,
 "nbformat_minor": 5
}
